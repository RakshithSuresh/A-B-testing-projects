{
  "nbformat": 4,
  "nbformat_minor": 0,
  "metadata": {
    "colab": {
      "provenance": [],
      "authorship_tag": "ABX9TyPPMQrykamceYsFs0GpiOWk",
      "include_colab_link": true
    },
    "kernelspec": {
      "name": "python3",
      "display_name": "Python 3"
    },
    "language_info": {
      "name": "python"
    }
  },
  "cells": [
    {
      "cell_type": "markdown",
      "metadata": {
        "id": "view-in-github",
        "colab_type": "text"
      },
      "source": [
        "<a href=\"https://colab.research.google.com/github/RakshithSuresh/A-B-testing-projects/blob/main/AB_Test_Results_analysis.ipynb\" target=\"_parent\"><img src=\"https://colab.research.google.com/assets/colab-badge.svg\" alt=\"Open In Colab\"/></a>"
      ]
    },
    {
      "cell_type": "code",
      "execution_count": 15,
      "metadata": {
        "colab": {
          "base_uri": "https://localhost:8080/"
        },
        "id": "7JlGQh5GmIdb",
        "outputId": "3fca9219-d714-46a0-ec44-bfb064c3d93b"
      },
      "outputs": [
        {
          "output_type": "stream",
          "name": "stdout",
          "text": [
            "       click group\n",
            "0          1   exp\n",
            "1          1   exp\n",
            "2          0   exp\n",
            "3          0   exp\n",
            "4          0   exp\n",
            "...      ...   ...\n",
            "19995      0   con\n",
            "19996      0   con\n",
            "19997      0   con\n",
            "19998      0   con\n",
            "19999      1   con\n",
            "\n",
            "[20000 rows x 2 columns]\n"
          ]
        }
      ],
      "source": [
        "import numpy as np\n",
        "import pandas as pd\n",
        "\n",
        "# Simulating Click Data for A/B Testing\n",
        "N_exp = 10000 # simulating 10k users\n",
        "N_con = 10000\n",
        "\n",
        "# Generating Click Data\n",
        "click_exp = pd.Series(np.random.binomial(1, 0.5, size=N_exp)) # to generate binary data(0,1) # 1 trial with a 50% chance (p=0.5) of success for experiment group\n",
        "click_con = pd.Series(np.random.binomial(1, 0.3, size=N_con)) # 1 trial with a 30% chance (p=0.3) of success for control group\n",
        "\n",
        "# Generate Group Identifier\n",
        "exp_id = pd.Series(np.repeat(\"exp\", N_exp)) # Creates a Series with repeated strings \"exp\" and \"con\" to label each row’s group.\n",
        "con_id = pd.Series(np.repeat(\"con\", N_con))\n",
        "\n",
        "df_exp = pd.concat([click_exp, exp_id], axis=1) # Joins click results and group labels side-by-side into two dataframes.\n",
        "df_con = pd.concat([click_con, con_id], axis=1)\n",
        "\n",
        "df_exp.columns = [\"click\", \"group\"] # Makes column names meaningful.\n",
        "df_con.columns = [\"click\", \"group\"]\n",
        "\n",
        "# print(df_exp)\n",
        "# print(df_con)\n",
        "\n",
        "df_ab_test = pd.concat([df_exp, df_con], axis=0).reset_index(drop=True) # Merges experiment and control groups vertically.\n",
        "\n",
        "print(df_ab_test)"
      ]
    },
    {
      "cell_type": "code",
      "source": [
        "# number of clicks per group\n",
        "X_con = df_ab_test.groupby(\"group\")[\"click\"].sum().loc['con']\n",
        "X_exp = df_ab_test.groupby(\"group\")[\"click\"].sum().loc['exp']\n",
        "\n",
        "print(\"Number of Clicks in control group:\",X_con)\n",
        "print(\"Number of Clicks in experimental group:\",X_exp)"
      ],
      "metadata": {
        "colab": {
          "base_uri": "https://localhost:8080/"
        },
        "id": "ktmTiOGbySTl",
        "outputId": "3e4f25db-cdf0-4fb6-dc51-c2778068dd2e"
      },
      "execution_count": 16,
      "outputs": [
        {
          "output_type": "stream",
          "name": "stdout",
          "text": [
            "Number of Clicks in control group: 2971\n",
            "Number of Clicks in experimental group: 5001\n"
          ]
        }
      ]
    },
    {
      "cell_type": "code",
      "source": [
        "# click probabilities for groups\n",
        "p_con_hat = X_con/N_con\n",
        "p_exp_hat = X_exp/N_exp\n",
        "\n",
        "print(\"Click Probability in Control Group:\",p_con_hat)\n",
        "print(\"Click Probability in Experimental Group:\",p_exp_hat)"
      ],
      "metadata": {
        "colab": {
          "base_uri": "https://localhost:8080/"
        },
        "id": "U4JdHiaMznzp",
        "outputId": "f9b7567c-beca-4d86-d8d8-5ae1551cc324"
      },
      "execution_count": 17,
      "outputs": [
        {
          "output_type": "stream",
          "name": "stdout",
          "text": [
            "Click Probability in Control Group: 0.2971\n",
            "Click Probability in Experimental Group: 0.5001\n"
          ]
        }
      ]
    },
    {
      "cell_type": "code",
      "source": [
        "# estimate of success probability\n",
        "\n",
        "# pooled proportion estimate\n",
        "p_pooled_hat = (X_con+X_exp) / (N_con+N_exp)\n",
        "\n",
        "pooled_variance = p_pooled_hat * (1 - p_pooled_hat) * (1 / N_con + 1 / N_exp)\n",
        "\n",
        "print(\"p^_pooled is: \", p_pooled_hat)\n",
        "print(\"pooled_variance is: \", pooled_variance)\n"
      ],
      "metadata": {
        "colab": {
          "base_uri": "https://localhost:8080/"
        },
        "id": "wyRaVLO90goH",
        "outputId": "383aa3d1-46a2-4e21-9ca4-178916222dc8"
      },
      "execution_count": 18,
      "outputs": [
        {
          "output_type": "stream",
          "name": "stdout",
          "text": [
            "p^_pooled is:  0.3986\n",
            "pooled_variance is:  4.7943608e-05\n"
          ]
        }
      ]
    },
    {
      "cell_type": "code",
      "source": [
        "# calculating standard error\n",
        "SE = np.sqrt(pooled_variance)\n",
        "print(\"Standard Error is:\", SE)"
      ],
      "metadata": {
        "colab": {
          "base_uri": "https://localhost:8080/"
        },
        "id": "h2Vl67Ej1bXG",
        "outputId": "99cc1d03-6dc3-4a43-f74e-46848289b22e"
      },
      "execution_count": 19,
      "outputs": [
        {
          "output_type": "stream",
          "name": "stdout",
          "text": [
            "Standard Error is: 0.006924132292208172\n"
          ]
        }
      ]
    },
    {
      "cell_type": "code",
      "source": [
        "# calculating test static\n",
        "Test_stat = (p_con_hat-p_exp_hat)/SE\n",
        "print(\"Test Static for 2 sample Z-test is:\", Test_stat)"
      ],
      "metadata": {
        "colab": {
          "base_uri": "https://localhost:8080/"
        },
        "id": "nXghQ-U61pE8",
        "outputId": "46e0821b-ce39-45f6-8825-fc9b9ea81200"
      },
      "execution_count": 20,
      "outputs": [
        {
          "output_type": "stream",
          "name": "stdout",
          "text": [
            "Test Static for 2 sample Z-test is: -29.317752959232003\n"
          ]
        }
      ]
    },
    {
      "cell_type": "code",
      "source": [
        "# computing critical value and confidence interval\n",
        "alpha = 0.05\n",
        "print(\"Significance level is:\",alpha)"
      ],
      "metadata": {
        "colab": {
          "base_uri": "https://localhost:8080/"
        },
        "id": "CrjKoZSy17Sr",
        "outputId": "9a0f1bd4-88b7-4242-f0f5-73e47cdc484e"
      },
      "execution_count": 21,
      "outputs": [
        {
          "output_type": "stream",
          "name": "stdout",
          "text": [
            "Significance level is: 0.05\n"
          ]
        }
      ]
    },
    {
      "cell_type": "code",
      "source": [
        "from scipy.stats import norm\n",
        "z_crit = norm.ppf(1 - alpha/2)\n",
        "print(\"Z-critical value from Normal distirbution is:\",z_crit)"
      ],
      "metadata": {
        "colab": {
          "base_uri": "https://localhost:8080/"
        },
        "id": "MSGlM_IzKv0z",
        "outputId": "f1a61d4f-da3f-4a07-8020-aab5f53db8d6"
      },
      "execution_count": 22,
      "outputs": [
        {
          "output_type": "stream",
          "name": "stdout",
          "text": [
            "Z-critical value from Normal distirbution is: 1.959963984540054\n"
          ]
        }
      ]
    },
    {
      "cell_type": "code",
      "source": [
        "p_value = 2 * norm.sf(abs(Test_stat))\n",
        "print(\"P-value of the sample Z-test:\",round(p_value,3))"
      ],
      "metadata": {
        "colab": {
          "base_uri": "https://localhost:8080/"
        },
        "id": "Pah33k7wNXJa",
        "outputId": "3572c861-e6f7-4683-fb21-2e90d35c5bc4"
      },
      "execution_count": 23,
      "outputs": [
        {
          "output_type": "stream",
          "name": "stdout",
          "text": [
            "P-value of the sample Z-test: 0.0\n"
          ]
        }
      ]
    },
    {
      "cell_type": "code",
      "source": [
        "CI = [round((p_exp_hat - p_con_hat) - SE * z_crit, 3), round((p_exp_hat - p_con_hat) + SE * z_crit, 3)]\n",
        "print(\"The confidence interval of the 2-sample Z-test is:\", CI)"
      ],
      "metadata": {
        "colab": {
          "base_uri": "https://localhost:8080/"
        },
        "id": "ShLBi3pbQCss",
        "outputId": "363a9180-ca8a-46fe-d876-1ce4607902b1"
      },
      "execution_count": 24,
      "outputs": [
        {
          "output_type": "stream",
          "name": "stdout",
          "text": [
            "The confidence interval of the 2-sample Z-test is: [np.float64(0.189), np.float64(0.217)]\n"
          ]
        }
      ]
    },
    {
      "cell_type": "markdown",
      "source": [
        "# 📊 CTR Bar Chart with Error Bars (Confidence Intervals)"
      ],
      "metadata": {
        "id": "_BpMJyAgYt-S"
      }
    },
    {
      "cell_type": "code",
      "source": [
        "import matplotlib.pyplot as plt\n",
        "\n",
        "# CTR values and confidence intervals\n",
        "ctr_values = [p_con_hat, p_exp_hat]\n",
        "ci_lower = [p_con_hat, p_exp_hat]\n",
        "ci_upper = [p_con_hat, p_exp_hat]\n",
        "\n",
        "# CI bounds from your z-critical\n",
        "ci_margin = SE * z_crit\n",
        "ci_bounds = [[ctr - ci_margin, ctr + ci_margin] for ctr in ctr_values]\n",
        "\n",
        "# Plotting\n",
        "labels = ['Control', 'Experiment']\n",
        "plt.figure(figsize=(8, 5))\n",
        "plt.bar(labels, ctr_values, yerr=[ci_margin, ci_margin], capsize=10, color=['skyblue', 'orange'])\n",
        "plt.title('CTR Comparison with 95% Confidence Intervals')\n",
        "plt.ylabel('Click-Through Rate')\n",
        "plt.ylim(0, 0.6)\n",
        "plt.grid(axis='y', linestyle='--', alpha=0.5)\n",
        "plt.show()"
      ],
      "metadata": {
        "colab": {
          "base_uri": "https://localhost:8080/",
          "height": 468
        },
        "id": "KwODBuC2Y02V",
        "outputId": "62173e7f-108a-43f0-81db-8b8a7473d3e5"
      },
      "execution_count": 25,
      "outputs": [
        {
          "output_type": "display_data",
          "data": {
            "text/plain": [
              "<Figure size 800x500 with 1 Axes>"
            ],
            "image/png": "[encoded data removed]"
          },
          "metadata": {}
        }
      ]
    },
    {
      "cell_type": "code",
      "source": [
        "from statsmodels.stats.power import NormalIndPower\n",
        "\n",
        "# Define known parameters from your test\n",
        "baseline = p_con_hat            # baseline conversion rate (e.g. 0.2892)\n",
        "alpha = 0.05                    # significance level\n",
        "power = 0.8                     # desired power (typically 0.8 or 80%)\n",
        "n = N_con                       # sample size per group\n",
        "\n",
        "# Create power analysis object\n",
        "analysis = NormalIndPower()\n",
        "\n",
        "# Solve for effect size (MDE as absolute difference)\n",
        "effect_size = analysis.solve_power(nobs1=n, alpha=alpha, power=power, ratio=1.0, alternative='two-sided')\n",
        "\n",
        "# Convert effect size to absolute percentage difference\n",
        "mde = effect_size * np.sqrt(2 * baseline * (1 - baseline))\n",
        "print(\"Minimum Detectable Effect (MDE) as absolute change in conversion rate:\", round(mde, 4))"
      ],
      "metadata": {
        "colab": {
          "base_uri": "https://localhost:8080/"
        },
        "id": "LYcyulzYWk67",
        "outputId": "51ef5b9d-3178-43ba-8a96-69c34b5bc12a"
      },
      "execution_count": 26,
      "outputs": [
        {
          "output_type": "stream",
          "name": "stdout",
          "text": [
            "Minimum Detectable Effect (MDE) as absolute change in conversion rate: 0.0256\n"
          ]
        }
      ]
    },
    {
      "cell_type": "code",
      "source": [
        "# Calculating observed difference\n",
        "observed_diff = p_exp_hat - p_con_hat\n",
        "print(f\"Observed CTR difference: {round(observed_diff, 4)}\")"
      ],
      "metadata": {
        "colab": {
          "base_uri": "https://localhost:8080/"
        },
        "id": "WYwbt-JBXQQn",
        "outputId": "41c229a1-792f-4394-9f01-48b87f8663a8"
      },
      "execution_count": 27,
      "outputs": [
        {
          "output_type": "stream",
          "name": "stdout",
          "text": [
            "Observed CTR difference: 0.203\n"
          ]
        }
      ]
    },
    {
      "cell_type": "code",
      "source": [
        "# conclusion\n",
        "if abs(observed_diff) >= mde:\n",
        "    print(\"✅ The observed effect is larger than the MDE. The result is statistically detectable.\")\n",
        "else:\n",
        "    print(\"❌ The observed effect is smaller than the MDE. The test may be underpowered.\")"
      ],
      "metadata": {
        "colab": {
          "base_uri": "https://localhost:8080/"
        },
        "id": "pnsB0X_4XXKW",
        "outputId": "9913af22-88c9-4390-fe5d-d5cd2168f090"
      },
      "execution_count": 28,
      "outputs": [
        {
          "output_type": "stream",
          "name": "stdout",
          "text": [
            "✅ The observed effect is larger than the MDE. The result is statistically detectable.\n"
          ]
        }
      ]
    },
    {
      "cell_type": "markdown",
      "source": [
        "## 📈 A/B Test Summary & Conclusion\n",
        "\n",
        "- **Control CTR**: 0.2892  \n",
        "- **Experiment CTR**: 0.5026  \n",
        "- **Observed Difference**: **+0.2134**\n",
        "\n",
        "---\n",
        "\n",
        "- **P-value**: 0.0 → ✅ Statistically significant (reject H₀)\n",
        "- **95% Confidence Interval**: [0.200, 0.227]\n",
        "- **Minimum Detectable Effect (MDE)**: 0.0254  \n",
        "- ✅ **Observed difference exceeds MDE**\n",
        "\n",
        "---\n",
        "\n",
        "### ✅ Final Conclusion:\n",
        "> The observed effect is statistically significant **and** detectable.  \n",
        "> The experiment group performs significantly better than the control group.\n"
      ],
      "metadata": {
        "id": "jzUmNkvXY7Dj"
      }
    }
  ]
}