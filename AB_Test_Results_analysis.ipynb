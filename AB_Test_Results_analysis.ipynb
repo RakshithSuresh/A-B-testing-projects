{
  "nbformat": 4,
  "nbformat_minor": 0,
  "metadata": {
    "colab": {
      "provenance": [],
      "authorship_tag": "ABX9TyMg0EW6htInoXVX+7Gait6v",
      "include_colab_link": true
    },
    "kernelspec": {
      "name": "python3",
      "display_name": "Python 3"
    },
    "language_info": {
      "name": "python"
    }
  },
  "cells": [
    {
      "cell_type": "markdown",
      "metadata": {
        "id": "view-in-github",
        "colab_type": "text"
      },
      "source": [
        "<a href=\"https://colab.research.google.com/github/RakshithSuresh/A-B-testing-projects/blob/main/AB_Test_Results_analysis.ipynb\" target=\"_parent\"><img src=\"https://colab.research.google.com/assets/colab-badge.svg\" alt=\"Open In Colab\"/></a>"
      ]
    },
    {
      "cell_type": "code",
      "execution_count": 1,
      "metadata": {
        "colab": {
          "base_uri": "https://localhost:8080/"
        },
        "id": "7JlGQh5GmIdb",
        "outputId": "438f2a2f-0359-4f0e-9b49-e57c3767b15e"
      },
      "outputs": [
        {
          "output_type": "stream",
          "name": "stdout",
          "text": [
            "       click group\n",
            "0          0   exp\n",
            "1          1   exp\n",
            "2          1   exp\n",
            "3          1   exp\n",
            "4          0   exp\n",
            "...      ...   ...\n",
            "19995      1   con\n",
            "19996      0   con\n",
            "19997      0   con\n",
            "19998      1   con\n",
            "19999      0   con\n",
            "\n",
            "[20000 rows x 2 columns]\n"
          ]
        }
      ],
      "source": [
        "import numpy as np\n",
        "import pandas as pd\n",
        "\n",
        "# Simulating Click Data for A/B Testing\n",
        "N_exp = 10000 # simulating 10k users\n",
        "N_con = 10000\n",
        "\n",
        "# Generating Click Data\n",
        "click_exp = pd.Series(np.random.binomial(1, 0.5, size=N_exp)) # to generate binary data(0,1) # 1 trial with a 50% chance (p=0.5) of success for experiment group\n",
        "click_con = pd.Series(np.random.binomial(1, 0.3, size=N_con)) # 1 trial with a 30% chance (p=0.3) of success for control group\n",
        "\n",
        "# Generate Group Identifier\n",
        "exp_id = pd.Series(np.repeat(\"exp\", N_exp)) # Creates a Series with repeated strings \"exp\" and \"con\" to label each row’s group.\n",
        "con_id = pd.Series(np.repeat(\"con\", N_con))\n",
        "\n",
        "df_exp = pd.concat([click_exp, exp_id], axis=1) # Joins click results and group labels side-by-side into two dataframes.\n",
        "df_con = pd.concat([click_con, con_id], axis=1)\n",
        "\n",
        "df_exp.columns = [\"click\", \"group\"] # Makes column names meaningful.\n",
        "df_con.columns = [\"click\", \"group\"]\n",
        "\n",
        "# print(df_exp)\n",
        "# print(df_con)\n",
        "\n",
        "df_ab_test = pd.concat([df_exp, df_con], axis=0).reset_index(drop=True) # Merges experiment and control groups vertically.\n",
        "\n",
        "print(df_ab_test)\n"
      ]
    },
    {
      "cell_type": "code",
      "source": [
        "# number of clicks per group\n",
        "X_con = df_ab_test.groupby(\"group\")[\"click\"].sum().loc['con']\n",
        "X_exp = df_ab_test.groupby(\"group\")[\"click\"].sum().loc['exp']\n",
        "\n",
        "print(\"Number of Clicks in control group:\",X_con)\n",
        "print(\"Number of Clicks in experimental group:\",X_exp)"
      ],
      "metadata": {
        "colab": {
          "base_uri": "https://localhost:8080/"
        },
        "id": "ktmTiOGbySTl",
        "outputId": "9ae23d12-9ea7-4294-ca5b-852731917db7"
      },
      "execution_count": 2,
      "outputs": [
        {
          "output_type": "stream",
          "name": "stdout",
          "text": [
            "Number of Clicks in control group: 2892\n",
            "Number of Clicks in experimental group: 5026\n"
          ]
        }
      ]
    },
    {
      "cell_type": "code",
      "source": [
        "# click probabilities for groups\n",
        "p_con_hat = X_con/N_con\n",
        "p_exp_hat = X_exp/N_exp\n",
        "\n",
        "print(\"Click Probability in Control Group:\",p_con_hat)\n",
        "print(\"Click Probability in Experimental Group:\",p_exp_hat)"
      ],
      "metadata": {
        "colab": {
          "base_uri": "https://localhost:8080/"
        },
        "id": "U4JdHiaMznzp",
        "outputId": "ef7f294c-36e5-4c4e-ccc8-7f0ba89faa88"
      },
      "execution_count": 3,
      "outputs": [
        {
          "output_type": "stream",
          "name": "stdout",
          "text": [
            "Click Probability in Control Group: 0.2892\n",
            "Click Probability in Experimental Group: 0.5026\n"
          ]
        }
      ]
    },
    {
      "cell_type": "code",
      "source": [
        "# estimate of success probability\n",
        "\n",
        "# pooled proportion estimate\n",
        "p_pooled_hat = (X_con+X_exp) / (N_con+N_exp)\n",
        "\n",
        "pooled_variance = p_pooled_hat * (1 - p_pooled_hat) * (1 / N_con + 1 / N_exp)\n",
        "\n",
        "print(\"p^_pooled is: \", p_pooled_hat)\n",
        "print(\"pooled_variance is: \", pooled_variance)\n"
      ],
      "metadata": {
        "colab": {
          "base_uri": "https://localhost:8080/"
        },
        "id": "wyRaVLO90goH",
        "outputId": "40ae528d-8441-4d9f-d3e7-8755241a326f"
      },
      "execution_count": 4,
      "outputs": [
        {
          "output_type": "stream",
          "name": "stdout",
          "text": [
            "p^_pooled is:  0.3959\n",
            "pooled_variance is:  4.7832638000000004e-05\n"
          ]
        }
      ]
    },
    {
      "cell_type": "code",
      "source": [
        "# calculating standard error\n",
        "SE = np.sqrt(pooled_variance)\n",
        "print(\"Standard Error is:\", SE)"
      ],
      "metadata": {
        "colab": {
          "base_uri": "https://localhost:8080/"
        },
        "id": "h2Vl67Ej1bXG",
        "outputId": "24254ca4-0eb4-4ac2-cd7c-59d7f8dc9082"
      },
      "execution_count": 5,
      "outputs": [
        {
          "output_type": "stream",
          "name": "stdout",
          "text": [
            "Standard Error is: 0.006916114371523941\n"
          ]
        }
      ]
    },
    {
      "cell_type": "code",
      "source": [
        "# calculating test static\n",
        "Test_stat = (p_con_hat-p_exp_hat)/SE\n",
        "print(\"Test Static for 2 sample Z-test is:\", Test_stat)"
      ],
      "metadata": {
        "colab": {
          "base_uri": "https://localhost:8080/"
        },
        "id": "nXghQ-U61pE8",
        "outputId": "72176912-98b6-453f-c405-9035540d296b"
      },
      "execution_count": 6,
      "outputs": [
        {
          "output_type": "stream",
          "name": "stdout",
          "text": [
            "Test Static for 2 sample Z-test is: -30.855475854858962\n"
          ]
        }
      ]
    },
    {
      "cell_type": "code",
      "source": [
        "# computing critical value and confidence interval\n",
        "alpha = 0.05\n",
        "print(\"Significance level is:\",alpha)"
      ],
      "metadata": {
        "colab": {
          "base_uri": "https://localhost:8080/"
        },
        "id": "CrjKoZSy17Sr",
        "outputId": "2f950eda-e834-4d7b-df4a-bbc50de7853d"
      },
      "execution_count": 7,
      "outputs": [
        {
          "output_type": "stream",
          "name": "stdout",
          "text": [
            "Significance level is: 0.05\n"
          ]
        }
      ]
    },
    {
      "cell_type": "code",
      "source": [
        "from scipy.stats import norm\n",
        "z_crit = norm.ppf(1 - alpha/2)\n",
        "print(\"Z-critical value from Normal distirbution is:\",z_crit)"
      ],
      "metadata": {
        "colab": {
          "base_uri": "https://localhost:8080/"
        },
        "id": "MSGlM_IzKv0z",
        "outputId": "14fe1daf-10ca-4b60-e4c5-9020c6444d48"
      },
      "execution_count": 8,
      "outputs": [
        {
          "output_type": "stream",
          "name": "stdout",
          "text": [
            "Z-critical value from Normal distirbution is: 1.959963984540054\n"
          ]
        }
      ]
    },
    {
      "cell_type": "code",
      "source": [
        "p_value = 2 * norm.sf(abs(Test_stat))\n",
        "print(\"P-value of the sample Z-test:\",round(p_value,3))"
      ],
      "metadata": {
        "colab": {
          "base_uri": "https://localhost:8080/"
        },
        "id": "Pah33k7wNXJa",
        "outputId": "83492675-0f84-42ab-bb5e-8b883428485f"
      },
      "execution_count": 9,
      "outputs": [
        {
          "output_type": "stream",
          "name": "stdout",
          "text": [
            "P-value of the sample Z-test: 0.0\n"
          ]
        }
      ]
    },
    {
      "cell_type": "code",
      "source": [
        "CI = [round((p_exp_hat - p_con_hat) - SE * z_crit, 3), round((p_exp_hat - p_con_hat) + SE * z_crit, 3)]\n",
        "print(\"The confidence interval of the 2-sample Z-test is:\", CI)"
      ],
      "metadata": {
        "colab": {
          "base_uri": "https://localhost:8080/"
        },
        "id": "ShLBi3pbQCss",
        "outputId": "c83988a1-06a0-4eea-eabb-2c83f41358f8"
      },
      "execution_count": 10,
      "outputs": [
        {
          "output_type": "stream",
          "name": "stdout",
          "text": [
            "The confidence interval of the 2-sample Z-test is: [np.float64(0.2), np.float64(0.227)]\n"
          ]
        }
      ]
    },
    {
      "cell_type": "code",
      "source": [
        "from statsmodels.stats.power import NormalIndPower\n",
        "\n",
        "# Define known parameters from your test\n",
        "baseline = p_con_hat            # baseline conversion rate (e.g. 0.2892)\n",
        "alpha = 0.05                    # significance level\n",
        "power = 0.8                     # desired power (typically 0.8 or 80%)\n",
        "n = N_con                       # sample size per group\n",
        "\n",
        "# Create power analysis object\n",
        "analysis = NormalIndPower()\n",
        "\n",
        "# Solve for effect size (MDE as absolute difference)\n",
        "effect_size = analysis.solve_power(nobs1=n, alpha=alpha, power=power, ratio=1.0, alternative='two-sided')\n",
        "\n",
        "# Convert effect size to absolute percentage difference\n",
        "mde = effect_size * np.sqrt(2 * baseline * (1 - baseline))\n",
        "print(\"Minimum Detectable Effect (MDE) as absolute change in conversion rate:\", round(mde, 4))"
      ],
      "metadata": {
        "colab": {
          "base_uri": "https://localhost:8080/"
        },
        "id": "LYcyulzYWk67",
        "outputId": "849171c3-b620-4c86-eccb-34294e03a825"
      },
      "execution_count": 11,
      "outputs": [
        {
          "output_type": "stream",
          "name": "stdout",
          "text": [
            "Minimum Detectable Effect (MDE) as absolute change in conversion rate: 0.0254\n"
          ]
        }
      ]
    },
    {
      "cell_type": "code",
      "source": [
        "# Calculating observed difference\n",
        "observed_diff = p_exp_hat - p_con_hat\n",
        "print(f\"Observed CTR difference: {round(observed_diff, 4)}\")"
      ],
      "metadata": {
        "colab": {
          "base_uri": "https://localhost:8080/"
        },
        "id": "WYwbt-JBXQQn",
        "outputId": "9c9f15c9-959c-4b64-8192-81a330872746"
      },
      "execution_count": 12,
      "outputs": [
        {
          "output_type": "stream",
          "name": "stdout",
          "text": [
            "Observed CTR difference: 0.2134\n"
          ]
        }
      ]
    },
    {
      "cell_type": "code",
      "source": [
        "# conclusion\n",
        "if abs(observed_diff) >= mde:\n",
        "    print(\"✅ The observed effect is larger than the MDE. The result is statistically detectable.\")\n",
        "else:\n",
        "    print(\"❌ The observed effect is smaller than the MDE. The test may be underpowered.\")"
      ],
      "metadata": {
        "colab": {
          "base_uri": "https://localhost:8080/"
        },
        "id": "pnsB0X_4XXKW",
        "outputId": "a8e664dd-2657-4327-a5f1-d5fbf126ce31"
      },
      "execution_count": 13,
      "outputs": [
        {
          "output_type": "stream",
          "name": "stdout",
          "text": [
            "✅ The observed effect is larger than the MDE. The result is statistically detectable.\n"
          ]
        }
      ]
    }
  ]
}