{
  "nbformat": 4,
  "nbformat_minor": 0,
  "metadata": {
    "colab": {
      "provenance": [],
      "authorship_tag": "ABX9TyPbh3cKdE99BM61rc8Gp5uL",
      "include_colab_link": true
    },
    "kernelspec": {
      "name": "python3",
      "display_name": "Python 3"
    },
    "language_info": {
      "name": "python"
    }
  },
  "cells": [
    {
      "cell_type": "markdown",
      "metadata": {
        "id": "view-in-github",
        "colab_type": "text"
      },
      "source": [
        "<a href=\"https://colab.research.google.com/github/RakshithSuresh/A-B-testing-projects/blob/main/Numpy_Learnings.ipynb\" target=\"_parent\"><img src=\"https://colab.research.google.com/assets/colab-badge.svg\" alt=\"Open In Colab\"/></a>"
      ]
    },
    {
      "cell_type": "markdown",
      "source": [
        "# PHASE 1 — Foundations (Core Building Blocks)"
      ],
      "metadata": {
        "id": "sojm5ofcgLW1"
      }
    },
    {
      "cell_type": "code",
      "source": [
        "import numpy as np\n",
        "\n",
        "print(np.__version__)"
      ],
      "metadata": {
        "colab": {
          "base_uri": "https://localhost:8080/"
        },
        "id": "362GpNBVgNRi",
        "outputId": "d0c1d66e-dfb4-466a-c70b-3ee9d44c6858"
      },
      "execution_count": 1,
      "outputs": [
        {
          "output_type": "stream",
          "name": "stdout",
          "text": [
            "2.0.2\n"
          ]
        }
      ]
    },
    {
      "cell_type": "code",
      "source": [
        "# 🔹 Creating a Simple Array\n",
        "import numpy as np\n",
        "\n",
        "data = [10, 20, 30, 40]\n",
        "arr = np.array(data)\n",
        "\n",
        "print(arr)          # [10 20 30 40]\n",
        "print(type(arr))    # <class 'numpy.ndarray'>"
      ],
      "metadata": {
        "colab": {
          "base_uri": "https://localhost:8080/"
        },
        "id": "VVCk4hothBir",
        "outputId": "3ac15c57-f27a-4c72-87a1-7fd01c6e8abe"
      },
      "execution_count": 2,
      "outputs": [
        {
          "output_type": "stream",
          "name": "stdout",
          "text": [
            "[10 20 30 40]\n",
            "<class 'numpy.ndarray'>\n"
          ]
        }
      ]
    },
    {
      "cell_type": "code",
      "source": [
        "import numpy as np\n",
        "import time\n",
        "\n",
        "# Create large dataset\n",
        "numbers = list(range(1_000_000))\n",
        "array = np.array(numbers)\n",
        "\n",
        "# Python list\n",
        "start = time.time()\n",
        "[x * 2 for x in numbers]\n",
        "print(\"Python list time:\", time.time() - start)\n",
        "\n",
        "# NumPy array\n",
        "start = time.time()\n",
        "array * 2\n",
        "print(\"NumPy array time:\", time.time() - start)\n"
      ],
      "metadata": {
        "colab": {
          "base_uri": "https://localhost:8080/"
        },
        "id": "oAlxebVch-pW",
        "outputId": "3634810d-085d-486e-d207-9026de51ccdc"
      },
      "execution_count": 3,
      "outputs": [
        {
          "output_type": "stream",
          "name": "stdout",
          "text": [
            "Python list time: 0.0774080753326416\n",
            "NumPy array time: 0.006215810775756836\n"
          ]
        }
      ]
    },
    {
      "cell_type": "code",
      "source": [
        "# converting list to array\n",
        "data = [1,2,3,4]\n",
        "arr = np.array(data)\n",
        "arr"
      ],
      "metadata": {
        "colab": {
          "base_uri": "https://localhost:8080/"
        },
        "id": "YYuJ5CebizJ2",
        "outputId": "f1a1d5af-4d89-465f-9375-36e98f88c899"
      },
      "execution_count": 4,
      "outputs": [
        {
          "output_type": "execute_result",
          "data": {
            "text/plain": [
              "array([1, 2, 3, 4])"
            ]
          },
          "metadata": {},
          "execution_count": 4
        }
      ]
    },
    {
      "cell_type": "code",
      "source": [
        "# multiply by 3\n",
        "print(arr*3)"
      ],
      "metadata": {
        "colab": {
          "base_uri": "https://localhost:8080/"
        },
        "id": "l9frfd5Bi9G5",
        "outputId": "2b66fa06-bab1-4a08-eca1-bb3a1b8fb21b"
      },
      "execution_count": 5,
      "outputs": [
        {
          "output_type": "stream",
          "name": "stdout",
          "text": [
            "[ 3  6  9 12]\n"
          ]
        }
      ]
    },
    {
      "cell_type": "code",
      "source": [
        "# Create a NumPy array from [2, 4, 6, 8] and compute its square.\n",
        "arr = np.array([2,4,6,8])\n",
        "print(arr*arr)"
      ],
      "metadata": {
        "colab": {
          "base_uri": "https://localhost:8080/"
        },
        "id": "7YyAA5oQjHOx",
        "outputId": "b2d24d7e-91d5-4e49-fd77-708088e7f55d"
      },
      "execution_count": 6,
      "outputs": [
        {
          "output_type": "stream",
          "name": "stdout",
          "text": [
            "[ 4 16 36 64]\n"
          ]
        }
      ]
    },
    {
      "cell_type": "code",
      "source": [
        "# Given arr = np.array([3, 6, 9]), double every element without using a loop.\n",
        "arr = np.array([3,6,9])\n",
        "print(arr*2)"
      ],
      "metadata": {
        "colab": {
          "base_uri": "https://localhost:8080/"
        },
        "id": "mew-yc8ojXSj",
        "outputId": "6d5a12f4-e980-4b7c-d3dc-79c4f60d704b"
      },
      "execution_count": 7,
      "outputs": [
        {
          "output_type": "stream",
          "name": "stdout",
          "text": [
            "[ 6 12 18]\n"
          ]
        }
      ]
    },
    {
      "cell_type": "code",
      "source": [
        "# You’re given a list of weekly deliveries completed:\n",
        "# deliveries = [120, 135, 128, 150, 160]\n",
        "\n",
        "# Tasks:\n",
        "\n",
        "# Convert this list into a NumPy array.\n",
        "\n",
        "# Compute the total deliveries, average per week, and week-over-week growth using np.diff().\n",
        "\n",
        "# (Bonus) Calculate the % growth between each week.\n",
        "\n",
        "deliveries = [120, 135, 128, 150, 160]\n",
        "arr = np.array(deliveries)\n",
        "print(arr)\n",
        "print()\n",
        "print(np.sum(deliveries))\n",
        "print()\n",
        "print(np.mean(deliveries))\n",
        "print()\n",
        "print(np.diff(deliveries))\n",
        "print()\n",
        "print(np.diff(deliveries)/deliveries[:-1]*100)"
      ],
      "metadata": {
        "colab": {
          "base_uri": "https://localhost:8080/"
        },
        "id": "5STzEdbbjYjY",
        "outputId": "7665732b-a671-4286-9cf1-8c0d890c7d4f"
      },
      "execution_count": 8,
      "outputs": [
        {
          "output_type": "stream",
          "name": "stdout",
          "text": [
            "[120 135 128 150 160]\n",
            "\n",
            "693\n",
            "\n",
            "138.6\n",
            "\n",
            "[15 -7 22 10]\n",
            "\n",
            "[12.5        -5.18518519 17.1875      6.66666667]\n"
          ]
        }
      ]
    },
    {
      "cell_type": "code",
      "source": [
        "# Topic 2: Creating Arrays\n",
        "\n",
        "# 🧱 1. Creating Arrays from Python Lists\n",
        "\n",
        "# The simplest way — converting an existing list or list of lists.\n",
        "\n",
        "import numpy as np\n",
        "\n",
        "arr1 = np.array([10, 20, 30])              # 1D array\n",
        "arr2 = np.array([[1, 2, 3], [4, 5, 6]])    # 2D array\n",
        "\n",
        "print(arr1)\n",
        "print(arr2)\n"
      ],
      "metadata": {
        "colab": {
          "base_uri": "https://localhost:8080/"
        },
        "id": "2N5ODbZzj_2_",
        "outputId": "7f708b4d-b1ec-424f-bde3-506566a67fd5"
      },
      "execution_count": 9,
      "outputs": [
        {
          "output_type": "stream",
          "name": "stdout",
          "text": [
            "[10 20 30]\n",
            "[[1 2 3]\n",
            " [4 5 6]]\n"
          ]
        }
      ]
    },
    {
      "cell_type": "code",
      "source": [
        "# 🧮 2. Creating Arrays Using Range Functions : To simulate time intervals, sample data, or create ID ranges automatically.\n",
        "# 🔹 np.arange(start, stop, step)\n",
        "\n",
        "# Like Python’s range(), but returns a NumPy array.\n",
        "\n",
        "print(np.arange(0, 10, 2))\n"
      ],
      "metadata": {
        "colab": {
          "base_uri": "https://localhost:8080/"
        },
        "id": "bcp3YqG6kajG",
        "outputId": "8f0789eb-c977-4732-cd43-bd79afb53bb9"
      },
      "execution_count": 10,
      "outputs": [
        {
          "output_type": "stream",
          "name": "stdout",
          "text": [
            "[0 2 4 6 8]\n"
          ]
        }
      ]
    },
    {
      "cell_type": "code",
      "source": [
        "# 🔹 np.linspace(start, stop, num): Generates evenly spaced values — very useful for sampling or charting.\n",
        "\n",
        "print(np.linspace(0, 1, 5))\n",
        "# basically it will divide 1 into 5 parts and seperate from 0\n"
      ],
      "metadata": {
        "colab": {
          "base_uri": "https://localhost:8080/"
        },
        "id": "XzzYFaWmkoVv",
        "outputId": "04b9f683-fef8-43b1-8268-19ca19d8e652"
      },
      "execution_count": 11,
      "outputs": [
        {
          "output_type": "stream",
          "name": "stdout",
          "text": [
            "[0.   0.25 0.5  0.75 1.  ]\n"
          ]
        }
      ]
    },
    {
      "cell_type": "code",
      "source": [
        "# 🧊 3. Creating Arrays with Constant Values : To initialize placeholder data, set baseline metrics, or fill missing values.\n",
        "# 🔹 All zeros\n",
        "\n",
        "np.zeros((2, 3))\n"
      ],
      "metadata": {
        "colab": {
          "base_uri": "https://localhost:8080/"
        },
        "id": "uExCkVkUk6br",
        "outputId": "e5bc47c2-020f-4e81-a06d-8fe0dbee916e"
      },
      "execution_count": 12,
      "outputs": [
        {
          "output_type": "execute_result",
          "data": {
            "text/plain": [
              "array([[0., 0., 0.],\n",
              "       [0., 0., 0.]])"
            ]
          },
          "metadata": {},
          "execution_count": 12
        }
      ]
    },
    {
      "cell_type": "code",
      "source": [
        "# 🔹 All ones\n",
        "\n",
        "np.ones((3, 2))\n"
      ],
      "metadata": {
        "colab": {
          "base_uri": "https://localhost:8080/"
        },
        "id": "QXqyhX5nlCDD",
        "outputId": "f95c3316-be40-4a38-8ae6-4f1c2623e1fa"
      },
      "execution_count": 13,
      "outputs": [
        {
          "output_type": "execute_result",
          "data": {
            "text/plain": [
              "array([[1., 1.],\n",
              "       [1., 1.],\n",
              "       [1., 1.]])"
            ]
          },
          "metadata": {},
          "execution_count": 13
        }
      ]
    },
    {
      "cell_type": "code",
      "source": [
        "# 🔹 Custom fill value\n",
        "\n",
        "np.full((2, 3), 7)"
      ],
      "metadata": {
        "colab": {
          "base_uri": "https://localhost:8080/"
        },
        "id": "MAqNGn44lImB",
        "outputId": "8648c656-62ec-4ca1-adde-c0e081a884e9"
      },
      "execution_count": 14,
      "outputs": [
        {
          "output_type": "execute_result",
          "data": {
            "text/plain": [
              "array([[7, 7, 7],\n",
              "       [7, 7, 7]])"
            ]
          },
          "metadata": {},
          "execution_count": 14
        }
      ]
    },
    {
      "cell_type": "code",
      "source": [
        "# 🔢 4. Identity and Diagonal Arrays : Useful in linear algebra (correlation matrices, covariance, etc.).\n",
        "# 🔹 Identity matrix (square)\n",
        "\n",
        "np.eye(4)\n"
      ],
      "metadata": {
        "colab": {
          "base_uri": "https://localhost:8080/"
        },
        "id": "pSUvJPzAlWt7",
        "outputId": "1c2f4c6a-8607-4b20-fd8e-11b69f5fca41"
      },
      "execution_count": 15,
      "outputs": [
        {
          "output_type": "execute_result",
          "data": {
            "text/plain": [
              "array([[1., 0., 0., 0.],\n",
              "       [0., 1., 0., 0.],\n",
              "       [0., 0., 1., 0.],\n",
              "       [0., 0., 0., 1.]])"
            ]
          },
          "metadata": {},
          "execution_count": 15
        }
      ]
    },
    {
      "cell_type": "code",
      "source": [
        "# Diagonal matrix\n",
        "\n",
        "np.diag([1, 2, 3])\n"
      ],
      "metadata": {
        "colab": {
          "base_uri": "https://localhost:8080/"
        },
        "id": "GbDrd8bWlc6W",
        "outputId": "ab897059-9a45-476d-b732-12d3103d6ee2"
      },
      "execution_count": 16,
      "outputs": [
        {
          "output_type": "execute_result",
          "data": {
            "text/plain": [
              "array([[1, 0, 0],\n",
              "       [0, 2, 0],\n",
              "       [0, 0, 3]])"
            ]
          },
          "metadata": {},
          "execution_count": 16
        }
      ]
    },
    {
      "cell_type": "code",
      "source": [
        "# Create a 1D array from 5 to 25 (inclusive) with a step of 5.\n",
        "np.arange(5,26,5)"
      ],
      "metadata": {
        "colab": {
          "base_uri": "https://localhost:8080/"
        },
        "id": "wXobk1VmlmQl",
        "outputId": "d5d2b60a-63b3-465b-8fe1-fc16c624c77c"
      },
      "execution_count": 17,
      "outputs": [
        {
          "output_type": "execute_result",
          "data": {
            "text/plain": [
              "array([ 5, 10, 15, 20, 25])"
            ]
          },
          "metadata": {},
          "execution_count": 17
        }
      ]
    },
    {
      "cell_type": "code",
      "source": [
        "# Create a 3×3 array of random floats between 0 and 1 and compute its mean.\n",
        "np.random.rand(3,3)"
      ],
      "metadata": {
        "colab": {
          "base_uri": "https://localhost:8080/"
        },
        "id": "Kd4KEFPzmhr5",
        "outputId": "0cf31497-7491-48fc-c610-d54e9124dab8"
      },
      "execution_count": 18,
      "outputs": [
        {
          "output_type": "execute_result",
          "data": {
            "text/plain": [
              "array([[0.90109844, 0.89532523, 0.57326562],\n",
              "       [0.4374499 , 0.64807359, 0.04370566],\n",
              "       [0.30905405, 0.71748652, 0.60834101]])"
            ]
          },
          "metadata": {},
          "execution_count": 18
        }
      ]
    },
    {
      "cell_type": "code",
      "source": [
        "# create a 10*10 array of integer values between 0 and 100 and compute its mean\n",
        "testing = np.random.randint(0,100,(10,10))\n",
        "print(testing)\n",
        "print()\n",
        "print(np.mean(testing))"
      ],
      "metadata": {
        "colab": {
          "base_uri": "https://localhost:8080/"
        },
        "id": "qQbYOHyPnhca",
        "outputId": "11ca6e9f-5333-4614-b68a-989ca1fabf74"
      },
      "execution_count": 19,
      "outputs": [
        {
          "output_type": "stream",
          "name": "stdout",
          "text": [
            "[[22 46 86 34 89 98 22 46 30 62]\n",
            " [95 84 46 59 16 89 20  7  4 70]\n",
            " [66 43 26  6 70 97  3 71 34 79]\n",
            " [18 27 88 85 87 27 59 83 45 12]\n",
            " [88 20 29 37 10 30 21 63 59 16]\n",
            " [54 85 36 92 54 14 34  3  3 56]\n",
            " [41  1 18  4 56 73 76 23 76 77]\n",
            " [86 40 36 15 42 42 40 94 89 34]\n",
            " [65 77 15 36 19 17 93 34 71 49]\n",
            " [48 40 32  2  1 83  0 65 12 90]]\n",
            "\n",
            "46.67\n"
          ]
        }
      ]
    },
    {
      "cell_type": "code",
      "source": [
        "# Generate a 5×5 diagonal matrix with diagonal values [10, 20, 30, 40, 50].\n",
        "np.diag([10,20,30,40,50])"
      ],
      "metadata": {
        "colab": {
          "base_uri": "https://localhost:8080/"
        },
        "id": "uW1ZYNecnFE1",
        "outputId": "0547d4aa-aee1-4059-fd52-1fcc0058f788"
      },
      "execution_count": 20,
      "outputs": [
        {
          "output_type": "execute_result",
          "data": {
            "text/plain": [
              "array([[10,  0,  0,  0,  0],\n",
              "       [ 0, 20,  0,  0,  0],\n",
              "       [ 0,  0, 30,  0,  0],\n",
              "       [ 0,  0,  0, 40,  0],\n",
              "       [ 0,  0,  0,  0, 50]])"
            ]
          },
          "metadata": {},
          "execution_count": 20
        }
      ]
    },
    {
      "cell_type": "code",
      "source": [
        "# mini challenge\n",
        "days = np.array([1, 2, 3, 4, 5, 6, 7])\n",
        "np.random.seed(40) # to generate same random numbers\n",
        "orders = np.random.randint(50,100,size = 7) # generating 7 random order sizes for all the 7 days\n",
        "print(days)\n",
        "print(orders)\n",
        "total_orders = np.sum(orders)\n",
        "print(f\"total orders in the week: {total_orders}\")\n",
        "print()\n",
        "\n",
        "\n",
        "avgPerDay = np.mean(orders)\n",
        "print(f\"avg order in a day: {avgPerDay}\")\n",
        "print()\n",
        "\n",
        "dayWithMaxOrders = np.argmax(orders) + 1\n",
        "print(f\"day with max orders: {dayWithMaxOrders}\")\n",
        "print()\n"
      ],
      "metadata": {
        "colab": {
          "base_uri": "https://localhost:8080/"
        },
        "id": "cZLjxG5ppSF5",
        "outputId": "9a27d0cb-1394-4b1e-c325-256aece8f79f"
      },
      "execution_count": 21,
      "outputs": [
        {
          "output_type": "stream",
          "name": "stdout",
          "text": [
            "[1 2 3 4 5 6 7]\n",
            "[56 77 57 87 51 62 57]\n",
            "total orders in the week: 447\n",
            "\n",
            "avg order in a day: 63.857142857142854\n",
            "\n",
            "day with max orders: 4\n",
            "\n"
          ]
        }
      ]
    },
    {
      "cell_type": "code",
      "source": [
        "arr_3d = np.array([\n",
        "    [[1, 2, 3],\n",
        "     [4, 5, 6]],\n",
        "\n",
        "    [[7, 8, 9],\n",
        "     [10, 11, 12]]\n",
        "])\n",
        "\n",
        "arr_3d"
      ],
      "metadata": {
        "colab": {
          "base_uri": "https://localhost:8080/"
        },
        "id": "nCXEZO8ax3RP",
        "outputId": "5f674f4e-a315-4fd3-f1d1-5440cb802044"
      },
      "execution_count": 22,
      "outputs": [
        {
          "output_type": "execute_result",
          "data": {
            "text/plain": [
              "array([[[ 1,  2,  3],\n",
              "        [ 4,  5,  6]],\n",
              "\n",
              "       [[ 7,  8,  9],\n",
              "        [10, 11, 12]]])"
            ]
          },
          "metadata": {},
          "execution_count": 22
        }
      ]
    },
    {
      "cell_type": "markdown",
      "source": [
        "# Reshaping Array"
      ],
      "metadata": {
        "id": "C2qRLshJ6Hns"
      }
    },
    {
      "cell_type": "code",
      "source": [
        "arr = np.array([1,2,3,4,5,6,7,8,9,10,11,12])\n",
        "print(f\"shape of array is {arr.shape}\")\n",
        "print()\n",
        "print(f\"dimension of array is {arr.ndim}\")\n",
        "print()\n",
        "print(arr)"
      ],
      "metadata": {
        "colab": {
          "base_uri": "https://localhost:8080/"
        },
        "id": "DQHHcIn06I4e",
        "outputId": "a6292c50-a9e0-4e56-84e4-d3aaf78e9f52"
      },
      "execution_count": 23,
      "outputs": [
        {
          "output_type": "stream",
          "name": "stdout",
          "text": [
            "shape of array is (12,)\n",
            "\n",
            "dimension of array is 1\n",
            "\n",
            "[ 1  2  3  4  5  6  7  8  9 10 11 12]\n"
          ]
        }
      ]
    },
    {
      "cell_type": "code",
      "source": [
        "# reshaping the above 1d array to 2d array\n",
        "arr_2d = arr.reshape(4,3)\n",
        "print(arr_2d)"
      ],
      "metadata": {
        "colab": {
          "base_uri": "https://localhost:8080/"
        },
        "id": "q9bpG66Y7AF-",
        "outputId": "a197b00c-e8cc-4a18-935c-2023e200cce1"
      },
      "execution_count": 24,
      "outputs": [
        {
          "output_type": "stream",
          "name": "stdout",
          "text": [
            "[[ 1  2  3]\n",
            " [ 4  5  6]\n",
            " [ 7  8  9]\n",
            " [10 11 12]]\n"
          ]
        }
      ]
    },
    {
      "cell_type": "code",
      "source": [
        "# you can also use -1 to reshape dynamically like below,\n",
        "arr.reshape(4,-1)"
      ],
      "metadata": {
        "colab": {
          "base_uri": "https://localhost:8080/"
        },
        "id": "9RAzez6x9NyM",
        "outputId": "44d60c9c-15b1-4821-914d-3684a83a55c5"
      },
      "execution_count": 25,
      "outputs": [
        {
          "output_type": "execute_result",
          "data": {
            "text/plain": [
              "array([[ 1,  2,  3],\n",
              "       [ 4,  5,  6],\n",
              "       [ 7,  8,  9],\n",
              "       [10, 11, 12]])"
            ]
          },
          "metadata": {},
          "execution_count": 25
        }
      ]
    },
    {
      "cell_type": "code",
      "source": [
        "# reshaping the above 1d array to 3d array\n",
        "arr_3d = arr.reshape(3,1,4)\n",
        "\n",
        "# 3 → means 3 blocks\n",
        "# 1 → means each block has 1 row\n",
        "# 4 → means each row has 4 columns\n",
        "\n",
        "print(arr_3d)"
      ],
      "metadata": {
        "colab": {
          "base_uri": "https://localhost:8080/"
        },
        "id": "kuSylmdJ7smy",
        "outputId": "581010cc-1c82-44d1-d794-2761e45ddd81"
      },
      "execution_count": 26,
      "outputs": [
        {
          "output_type": "stream",
          "name": "stdout",
          "text": [
            "[[[ 1  2  3  4]]\n",
            "\n",
            " [[ 5  6  7  8]]\n",
            "\n",
            " [[ 9 10 11 12]]]\n"
          ]
        }
      ]
    },
    {
      "cell_type": "code",
      "source": [
        "# flatening 3d to 2d and then to 1d\n",
        "arr_3d_to_2d = arr_3d.reshape(-1,4)\n",
        "print(arr_3d_to_2d)"
      ],
      "metadata": {
        "colab": {
          "base_uri": "https://localhost:8080/"
        },
        "id": "IK0S94TO-2xd",
        "outputId": "708d50bf-6d46-4e40-adf4-416c2b058a6b"
      },
      "execution_count": 27,
      "outputs": [
        {
          "output_type": "stream",
          "name": "stdout",
          "text": [
            "[[ 1  2  3  4]\n",
            " [ 5  6  7  8]\n",
            " [ 9 10 11 12]]\n"
          ]
        }
      ]
    },
    {
      "cell_type": "code",
      "source": [
        "# flatening 3d to 1d using flatten()\n",
        "# flatten creates a copy of the array and its slow and memory consuming and the original array value doesn't change if you change the flattened values\n",
        "flattened = arr_3d.flatten()\n",
        "print(flattened)\n",
        "print()\n",
        "flattened[0] = 10\n",
        "print(flattened)\n",
        "print()\n",
        "print(arr_3d)"
      ],
      "metadata": {
        "colab": {
          "base_uri": "https://localhost:8080/"
        },
        "id": "-MG8CkqFASjj",
        "outputId": "fb1c3f2a-c9c3-4cf5-f49a-5b86086857a9"
      },
      "execution_count": 28,
      "outputs": [
        {
          "output_type": "stream",
          "name": "stdout",
          "text": [
            "[ 1  2  3  4  5  6  7  8  9 10 11 12]\n",
            "\n",
            "[10  2  3  4  5  6  7  8  9 10 11 12]\n",
            "\n",
            "[[[ 1  2  3  4]]\n",
            "\n",
            " [[ 5  6  7  8]]\n",
            "\n",
            " [[ 9 10 11 12]]]\n"
          ]
        }
      ]
    },
    {
      "cell_type": "code",
      "source": [
        "# using ravel()\n",
        "\n",
        "raveled = arr_3d.ravel()\n",
        "print(raveled)\n",
        "print()\n",
        "raveled[0] = 10000\n",
        "print(raveled)\n",
        "print()\n",
        "print(arr_3d)\n",
        "\n",
        "# see the difference"
      ],
      "metadata": {
        "colab": {
          "base_uri": "https://localhost:8080/"
        },
        "id": "0uO3CUCwCZYv",
        "outputId": "6bb2775e-c9af-4dbc-8182-5b7063295563"
      },
      "execution_count": 29,
      "outputs": [
        {
          "output_type": "stream",
          "name": "stdout",
          "text": [
            "[ 1  2  3  4  5  6  7  8  9 10 11 12]\n",
            "\n",
            "[10000     2     3     4     5     6     7     8     9    10    11    12]\n",
            "\n",
            "[[[10000     2     3     4]]\n",
            "\n",
            " [[    5     6     7     8]]\n",
            "\n",
            " [[    9    10    11    12]]]\n"
          ]
        }
      ]
    },
    {
      "cell_type": "markdown",
      "source": [
        "# Array Indexing & Slicing in NumPy"
      ],
      "metadata": {
        "id": "LMyQ8w0fIOzQ"
      }
    },
    {
      "cell_type": "code",
      "source": [
        "# syntax- array[start : stop : step]\n",
        "\n",
        "# working with 1D array\n",
        "arr = np.array([1,2,3,4,5,6,7,8,9,10,11,12])\n",
        "\n",
        "# printing array\n",
        "print(arr)\n",
        "\n",
        "# printing 2nd element\n",
        "print(f\"second element in the array is {arr[2]}\")\n",
        "\n",
        "# printing first 3 elements\n",
        "print(f\"first 3 elements in the array are {arr[:3]}\")\n",
        "\n",
        "# printing last 3 elements\n",
        "print(f\"last 3 elements in the array are {arr[-3:]}\")\n",
        "\n",
        "# printing Middle range\n",
        "print(f\"middle elements are {arr[3:8]}\")\n",
        "\n",
        "# printing every other element\n",
        "print(f\"every other element is {arr[::2]}\")\n"
      ],
      "metadata": {
        "colab": {
          "base_uri": "https://localhost:8080/"
        },
        "id": "kTbUrVKFIQ8g",
        "outputId": "458deb44-36de-40e6-c44a-f0c6712f6098"
      },
      "execution_count": 30,
      "outputs": [
        {
          "output_type": "stream",
          "name": "stdout",
          "text": [
            "[ 1  2  3  4  5  6  7  8  9 10 11 12]\n",
            "second element in the array is 3\n",
            "first 3 elements in the array are [1 2 3]\n",
            "last 3 elements in the array are [10 11 12]\n",
            "middle elements are [4 5 6 7 8]\n",
            "every other element is [ 1  3  5  7  9 11]\n"
          ]
        }
      ]
    },
    {
      "cell_type": "markdown",
      "source": [
        "**working with 2d array**"
      ],
      "metadata": {
        "id": "F6VPzumqMmNE"
      }
    },
    {
      "cell_type": "code",
      "source": [
        "\n",
        "arr2d = np.array([\n",
        "    [10, 20, 30],\n",
        "    [40, 50, 60],\n",
        "    [70, 80, 90]\n",
        "])\n",
        "\n",
        "# printing 2d array\n",
        "print(arr2d)\n",
        "print()\n",
        "\n",
        "# accesing single element: 60\n",
        "print(arr2d[1,2])\n",
        "print()\n",
        "\n",
        "# Access entire row\n",
        "print(arr2d[2]) # last row\n",
        "print()\n",
        "\n",
        "# Access entire column\n",
        "print(arr2d[:,0]) #first column\n",
        "print()\n",
        "\n",
        "# Slice multiple rows & columns, get 50,60,80,90\n",
        "print(arr2d[1:3,1:3])\n",
        "print()\n",
        "\n",
        "# Non-contiguous rows/columns\n",
        "print(arr2d[[0, 2], [1, 2]])"
      ],
      "metadata": {
        "colab": {
          "base_uri": "https://localhost:8080/"
        },
        "id": "QDjZWXpIJjmj",
        "outputId": "83d0d519-3041-4ebc-a508-b9645cb3fa6d"
      },
      "execution_count": 31,
      "outputs": [
        {
          "output_type": "stream",
          "name": "stdout",
          "text": [
            "[[10 20 30]\n",
            " [40 50 60]\n",
            " [70 80 90]]\n",
            "\n",
            "60\n",
            "\n",
            "[70 80 90]\n",
            "\n",
            "[10 40 70]\n",
            "\n",
            "[[50 60]\n",
            " [80 90]]\n",
            "\n",
            "[20 90]\n"
          ]
        }
      ]
    },
    {
      "cell_type": "markdown",
      "source": [
        "**Slicing in 3D Arrays**"
      ],
      "metadata": {
        "id": "tzfAMVBDMh3l"
      }
    },
    {
      "cell_type": "code",
      "source": [
        "arr3d = np.array([\n",
        "  [[1, 2, 3], [4, 5, 6]],\n",
        "  [[7, 8, 9], [10, 11, 12]]\n",
        "])\n",
        "\n",
        "print(arr3d)\n",
        "print()\n",
        "\n",
        "print(arr3d.shape)\n",
        "print()\n",
        "\n",
        "# Access single block\n",
        "print(arr3d[0])\n",
        "print()\n",
        "\n",
        "# Access single value(9)\n",
        "print(arr3d[1,0,2])\n",
        "print()\n",
        "\n",
        "# Slice across blocks\n",
        "print(arr3d[:,1,:])\n",
        "\n",
        "print()\n",
        "\n",
        "# 🎯 4️⃣ Boolean (Conditional) Slicing\n",
        "\n",
        "# You can filter values using conditions — just like SQL WHERE.\n",
        "\n",
        "arr = np.array([10, 15, 20, 25, 30])\n",
        "arr[arr > 20]\n",
        "\n",
        "print()\n",
        "\n",
        "# ⚙️ 6️⃣ Mixing Slicing and Indexing\n",
        "arr2d = np.array([\n",
        "  [10, 20, 30, 40],\n",
        "  [50, 60, 70, 80],\n",
        "  [90, 100, 110, 120]\n",
        "])\n",
        "\n",
        "arr2d[0:2, [1,3]]\n",
        "\n",
        "\n"
      ],
      "metadata": {
        "colab": {
          "base_uri": "https://localhost:8080/"
        },
        "id": "tWaWDj6CMhjj",
        "outputId": "68963f40-2f80-4f07-a5e8-66d59b6a650e"
      },
      "execution_count": 32,
      "outputs": [
        {
          "output_type": "stream",
          "name": "stdout",
          "text": [
            "[[[ 1  2  3]\n",
            "  [ 4  5  6]]\n",
            "\n",
            " [[ 7  8  9]\n",
            "  [10 11 12]]]\n",
            "\n",
            "(2, 2, 3)\n",
            "\n",
            "[[1 2 3]\n",
            " [4 5 6]]\n",
            "\n",
            "9\n",
            "\n",
            "[[ 4  5  6]\n",
            " [10 11 12]]\n",
            "\n",
            "\n"
          ]
        },
        {
          "output_type": "execute_result",
          "data": {
            "text/plain": [
              "array([[20, 40],\n",
              "       [60, 80]])"
            ]
          },
          "metadata": {},
          "execution_count": 32
        }
      ]
    },
    {
      "cell_type": "markdown",
      "source": [
        "# 🧩 Topic 4: Boolean Masking & Conditional Filtering\n",
        "\n",
        "Boolean masking means using conditions (like >, <, ==) to filter or modify parts of an array.\n"
      ],
      "metadata": {
        "id": "N56Xx8WIyWuR"
      }
    },
    {
      "cell_type": "code",
      "source": [
        "arr = np.array([10, 20, 30, 40, 50])\n",
        "\n",
        "mask = arr > 25\n",
        "\n",
        "\n",
        "print(mask)\n",
        "print()\n",
        "arr[mask]\n"
      ],
      "metadata": {
        "id": "f2lllWpxyXOG",
        "colab": {
          "base_uri": "https://localhost:8080/"
        },
        "outputId": "686fec18-426f-4f89-d1b6-bec6632428be"
      },
      "execution_count": 37,
      "outputs": [
        {
          "output_type": "stream",
          "name": "stdout",
          "text": [
            "[False False  True  True  True]\n",
            "\n"
          ]
        },
        {
          "output_type": "execute_result",
          "data": {
            "text/plain": [
              "array([30, 40, 50])"
            ]
          },
          "metadata": {},
          "execution_count": 37
        }
      ]
    },
    {
      "cell_type": "markdown",
      "source": [
        "| Operation          | Example                   | Result                           |                                 |\n",
        "| ------------------ | ------------------------- | -------------------------------- | ------------------------------- |\n",
        "| Greater than       | `arr > 25`                | `[False False True True True]`   |                                 |\n",
        "| Less than          | `arr < 40`                | `[True True True False False]`   |                                 |\n",
        "| Equal to           | `arr == 30`               | `[False False True False False]` |                                 |\n",
        "| Not equal          | `arr != 10`               | `[False True True True True]`    |                                 |\n",
        "| Combine conditions | `(arr > 20) & (arr < 50)` | `[False False True True False]`  |                                 |\n",
        "| OR condition       | `(arr < 15)               | (arr > 45)`                      | `[True False False False True]` |\n"
      ],
      "metadata": {
        "id": "2PF1sHyLzDl-"
      }
    },
    {
      "cell_type": "code",
      "source": [
        "# 🧠 Filtering with Boolean Masks\n",
        "arr = np.array([100, 120, 80, 150, 60])\n",
        "filtered = arr[arr >= 100]\n",
        "print(filtered)"
      ],
      "metadata": {
        "id": "hM03B9nnygv0",
        "colab": {
          "base_uri": "https://localhost:8080/"
        },
        "outputId": "222ec564-9435-47e3-8fb6-fa68df6b910c"
      },
      "execution_count": 38,
      "outputs": [
        {
          "output_type": "stream",
          "name": "stdout",
          "text": [
            "[100 120 150]\n"
          ]
        }
      ]
    },
    {
      "cell_type": "code",
      "source": [
        "# 🧩 Replacing Values with Conditions\n",
        "\n",
        "# You can modify only the values that meet a condition.\n",
        "\n",
        "arr = np.array([5, 10, 15, 20, 25])\n",
        "arr[arr < 10] = 0\n",
        "print(arr)"
      ],
      "metadata": {
        "colab": {
          "base_uri": "https://localhost:8080/"
        },
        "id": "BYGVvWBhzNf8",
        "outputId": "fe14f81d-03bd-4a51-a521-5ba819b6407d"
      },
      "execution_count": 39,
      "outputs": [
        {
          "output_type": "stream",
          "name": "stdout",
          "text": [
            "[ 0 10 15 20 25]\n"
          ]
        }
      ]
    },
    {
      "cell_type": "code",
      "source": [
        "# ⚙️ Using np.where() (Ternary Logic)\n",
        "\n",
        "# np.where(condition, value_if_true, value_if_false)\n",
        "\n",
        "arr = np.array([100, 200, 300, 400])\n",
        "result = np.where(arr > 250, \"High\", \"Low\")\n",
        "print(result)\n"
      ],
      "metadata": {
        "colab": {
          "base_uri": "https://localhost:8080/"
        },
        "id": "BfqKqBlx0lqj",
        "outputId": "7995b0ee-6104-49b4-a877-70a32afc585a"
      },
      "execution_count": 40,
      "outputs": [
        {
          "output_type": "stream",
          "name": "stdout",
          "text": [
            "['Low' 'Low' 'High' 'High']\n"
          ]
        }
      ]
    },
    {
      "cell_type": "code",
      "source": [
        "# 🧠 Combining Multiple Conditions\n",
        "arr = np.array([100, 200, 300, 400, 500])\n",
        "arr[(arr > 150) & (arr < 450)]"
      ],
      "metadata": {
        "colab": {
          "base_uri": "https://localhost:8080/"
        },
        "id": "vz8fYIJr05bP",
        "outputId": "b16d8fa4-4734-4e19-d550-6bd42c1e64c0"
      },
      "execution_count": 41,
      "outputs": [
        {
          "output_type": "execute_result",
          "data": {
            "text/plain": [
              "array([200, 300, 400])"
            ]
          },
          "metadata": {},
          "execution_count": 41
        }
      ]
    },
    {
      "cell_type": "code",
      "source": [
        "# Create an array [12, 5, 8, 18, 22, 7]\n",
        "\n",
        "arr = np.array([12, 5, 8, 18, 22, 7])\n",
        "print(arr)\n",
        "print()\n",
        "\n",
        "# Extract all numbers > 10\n",
        "print(arr[arr>10])\n",
        "print()\n",
        "\n",
        "\n",
        "# Using np.where(), label numbers as \"Even\" or \"Odd\".\n",
        "print(np.where(arr%2 == 0, 'Even','Odd'))\n",
        "print()\n",
        "\n",
        "# Replace numbers < 10 with 0\n",
        "arr[arr<10] = 0\n",
        "print(arr)\n",
        "print()\n",
        "\n",
        "\n",
        "# For a 2D array of shape (3,4) with random integers (1–100), extract all values > 50.\n",
        "arr2d = np.random.randint(1,100,(3,4))\n",
        "print(arr2d[arr2d>50])\n",
        "print()\n",
        "\n",
        "# Combine two conditions: keep values between 20 and 80.\n",
        "# syntax is usually array[(1st condition) & (2nd condition)]\n",
        "print(arr2d[(arr2d>20) & (arr2d<80)])\n"
      ],
      "metadata": {
        "colab": {
          "base_uri": "https://localhost:8080/"
        },
        "id": "qqA6_3aG07Ps",
        "outputId": "45557a60-f6cd-416b-8dd3-dec0abd406e6"
      },
      "execution_count": 57,
      "outputs": [
        {
          "output_type": "stream",
          "name": "stdout",
          "text": [
            "[12  5  8 18 22  7]\n",
            "\n",
            "[12 18 22]\n",
            "\n",
            "['Even' 'Odd' 'Even' 'Even' 'Even' 'Odd']\n",
            "\n",
            "[12  0  0 18 22  0]\n",
            "\n",
            "[79 72 57 78 87 85 83 92 91 74]\n",
            "\n",
            "[79 72 57 78 74 28]\n"
          ]
        }
      ]
    },
    {
      "cell_type": "markdown",
      "source": [
        "# 🧩 Handling Missing or Invalid Data in NumPy"
      ],
      "metadata": {
        "id": "oI-sNcF05Dzw"
      }
    },
    {
      "cell_type": "markdown",
      "source": [
        "**📘 Concept Explanation**\n",
        "\n",
        "🔹 Missing / Invalid Data in NumPy\n",
        "\n",
        "In NumPy, missing or invalid data is usually represented as:\n",
        "\n",
        "| Type     | Representation        | Meaning                                       |\n",
        "| -------- | --------------------- | --------------------------------------------- |\n",
        "| **NaN**  | `np.nan`              | Not a Number (missing numeric value)          |\n",
        "| **Inf**  | `np.inf` or `-np.inf` | Infinity (overflow or division by zero)       |\n",
        "| **None** | Python’s null object  | Only works in object arrays, not numeric ones |\n",
        "\n",
        "\n",
        "NumPy treats np.nan as a float type by default — even if the data was int."
      ],
      "metadata": {
        "id": "yHWKfxRO5XZA"
      }
    },
    {
      "cell_type": "code",
      "source": [
        "# 💻 1️⃣ Detecting Missing Values\n",
        "import numpy as np\n",
        "\n",
        "arr = np.array([10, np.nan, 20, np.nan, 30])\n",
        "print(arr)\n",
        "\n",
        "print()\n",
        "\n",
        "# To detect which values are NaN:\n",
        "\n",
        "print(np.isnan(arr))\n",
        "print()\n",
        "print(arr[np.isnan(arr)])"
      ],
      "metadata": {
        "colab": {
          "base_uri": "https://localhost:8080/"
        },
        "id": "_tnyjwIe5Gnq",
        "outputId": "c0e4653f-4327-402b-c6b3-4d3607eb8145"
      },
      "execution_count": 63,
      "outputs": [
        {
          "output_type": "stream",
          "name": "stdout",
          "text": [
            "[10. nan 20. nan 30.]\n",
            "\n",
            "[False  True False  True False]\n",
            "\n",
            "[nan nan]\n"
          ]
        }
      ]
    },
    {
      "cell_type": "code",
      "source": [
        "# 💡 2️⃣ Filtering or Counting Missing Values\n",
        "\n",
        "# Filter only non-missing values:\n",
        "\n",
        "arr[~np.isnan(arr)]"
      ],
      "metadata": {
        "colab": {
          "base_uri": "https://localhost:8080/"
        },
        "id": "SLAz7SZC6Tv6",
        "outputId": "69f58524-a395-432d-95f4-fb8993e09836"
      },
      "execution_count": 61,
      "outputs": [
        {
          "output_type": "execute_result",
          "data": {
            "text/plain": [
              "array([10., 20., 30.])"
            ]
          },
          "metadata": {},
          "execution_count": 61
        }
      ]
    },
    {
      "cell_type": "code",
      "source": [
        "# 🧩 3️⃣ Replacing Missing Values\n",
        "\n",
        "# Replace all NaNs with a specific number:\n",
        "\n",
        "arr = np.array([10, np.nan, 20, np.nan, 30])\n",
        "arr[np.isnan(arr)] = 0\n",
        "print(arr)\n",
        "\n",
        "\n",
        "print()\n",
        "\n",
        "\n",
        "# replacing with mean\n",
        "arr = np.array([10, np.nan, 20, np.nan, 30])\n",
        "arr[np.isnan(arr)] = np.mean(arr[~np.isnan(arr)])\n",
        "print(arr)"
      ],
      "metadata": {
        "colab": {
          "base_uri": "https://localhost:8080/"
        },
        "id": "_yy0o-ye8lFd",
        "outputId": "fb1173a9-9e05-4aaa-aa5e-0263b73a7cf9"
      },
      "execution_count": 76,
      "outputs": [
        {
          "output_type": "stream",
          "name": "stdout",
          "text": [
            "[10.  0. 20.  0. 30.]\n",
            "\n",
            "[10. 20. 20. 20. 30.]\n"
          ]
        }
      ]
    },
    {
      "cell_type": "code",
      "source": [
        "# 💡 Using np.nan_to_num()\n",
        "\n",
        "# Quick way to replace NaN and Inf in one go:\n",
        "\n",
        "arr = np.array([10, np.nan, np.inf, -np.inf])\n",
        "np.nan_to_num(arr, nan=0, posinf=999, neginf=-999)"
      ],
      "metadata": {
        "colab": {
          "base_uri": "https://localhost:8080/"
        },
        "id": "tjMojAJ79JKq",
        "outputId": "18e4eb87-396f-4079-b10f-eca03e20b89c"
      },
      "execution_count": 77,
      "outputs": [
        {
          "output_type": "execute_result",
          "data": {
            "text/plain": [
              "array([  10.,    0.,  999., -999.])"
            ]
          },
          "metadata": {},
          "execution_count": 77
        }
      ]
    },
    {
      "cell_type": "markdown",
      "source": [
        "# 🧠 4️⃣ Ignoring NaN in Calculations\n",
        "\n",
        "Regular NumPy functions (np.mean, np.sum, etc.) break if NaN is present.\n",
        "\n",
        "Using the nan-safe functions\n",
        "\n",
        "| Regular Function | NaN-Safe Version | Description            |\n",
        "| ---------------- | ---------------- | ---------------------- |\n",
        "| `np.sum()`       | `np.nansum()`    | Ignores NaN in sum     |\n",
        "| `np.mean()`      | `np.nanmean()`   | Ignores NaN in mean    |\n",
        "| `np.std()`       | `np.nanstd()`    | Ignores NaN in std dev |\n",
        "| `np.min()`       | `np.nanmin()`    | Ignores NaN in min     |\n",
        "| `np.max()`       | `np.nanmax()`    | Ignores NaN in max     |\n"
      ],
      "metadata": {
        "id": "gTfF3elw9Qa9"
      }
    },
    {
      "cell_type": "code",
      "source": [
        "arr = np.array([10, np.nan, 20, np.nan, 30])\n",
        "\n",
        "print(np.sum(arr))\n",
        "print(np.nansum(arr))\n",
        "\n",
        "print()\n",
        "\n",
        "print(np.mean(arr))\n",
        "print(np.nanmean(arr))\n",
        "\n",
        "print()\n",
        "\n",
        "print(np.std(arr))\n",
        "print(np.nanstd(arr))\n",
        "\n",
        "print()\n",
        "\n",
        "\n",
        "print(np.min(arr))\n",
        "print(np.nanmin(arr))\n",
        "\n",
        "print()\n",
        "\n",
        "print(np.max(arr))\n",
        "print(np.nanmax(arr))\n"
      ],
      "metadata": {
        "colab": {
          "base_uri": "https://localhost:8080/"
        },
        "id": "oG32mJQY869G",
        "outputId": "62ff962d-f0f0-4b69-bbfb-9101f6794b1e"
      },
      "execution_count": 90,
      "outputs": [
        {
          "output_type": "stream",
          "name": "stdout",
          "text": [
            "nan\n",
            "60.0\n",
            "\n",
            "nan\n",
            "20.0\n",
            "\n",
            "nan\n",
            "8.16496580927726\n",
            "\n",
            "nan\n",
            "10.0\n",
            "\n",
            "nan\n",
            "30.0\n"
          ]
        }
      ]
    },
    {
      "cell_type": "code",
      "source": [
        "# ⚙️ 5️⃣ Handling Infinite Values (inf and -inf)\n",
        "\n",
        "# Infinite values occur in:\n",
        "\n",
        "# Division by zero\n",
        "\n",
        "# Log of 0\n",
        "\n",
        "# Overflow from large computations\n",
        "\n",
        "# Example:\n",
        "\n",
        "arr = np.array([1, 0, -2])\n",
        "result = 10 / arr\n",
        "print(result)\n",
        "\n",
        "\n",
        "\n",
        "# ✅ Replace infinities:\n",
        "\n",
        "result[np.isinf(result)] = np.nan\n",
        "print(result)\n",
        "\n",
        "\n",
        "\n",
        "# ✅ Then handle NaNs using the same methods as before."
      ],
      "metadata": {
        "colab": {
          "base_uri": "https://localhost:8080/"
        },
        "id": "VDSE76mIBk3d",
        "outputId": "9900c685-ba82-4a48-da34-22fe76c8805f"
      },
      "execution_count": 91,
      "outputs": [
        {
          "output_type": "stream",
          "name": "stdout",
          "text": [
            "[10. inf -5.]\n",
            "[10. nan -5.]\n"
          ]
        },
        {
          "output_type": "stream",
          "name": "stderr",
          "text": [
            "/tmp/ipython-input-758836099.py:14: RuntimeWarning: divide by zero encountered in divide\n",
            "  result = 10 / arr\n"
          ]
        }
      ]
    },
    {
      "cell_type": "markdown",
      "source": [
        "# Mathematical & Statistical Functions"
      ],
      "metadata": {
        "id": "e3nQkMOvLH4X"
      }
    },
    {
      "cell_type": "markdown",
      "source": [
        "| Operation         | Code                    | Output |\n",
        "| ----------------- | ----------------------- | ------ |\n",
        "| Sum               | `arr.sum()`             | `150`  |\n",
        "| Mean              | `arr.mean()`            | `30.0` |\n",
        "| Min               | `arr.min()`             | `10`   |\n",
        "| Max               | `arr.max()`             | `50`   |\n",
        "| Range (Max - Min) | `arr.max() - arr.min()` | `40`   |\n"
      ],
      "metadata": {
        "id": "4sNMHrcVL4eI"
      }
    },
    {
      "cell_type": "code",
      "source": [
        "import numpy as np\n",
        "arr = np.array([10, 20, 30, 40, 50])\n",
        "print(arr)\n",
        "\n",
        "print()\n",
        "\n",
        "print(arr.sum())\n",
        "print()\n",
        "\n",
        "print(arr.min())\n",
        "print()\n",
        "\n",
        "print(arr.max())\n",
        "print()\n",
        "\n",
        "print(arr.max() - arr.min()) # range"
      ],
      "metadata": {
        "colab": {
          "base_uri": "https://localhost:8080/"
        },
        "id": "r1WNBdOXLITr",
        "outputId": "cd5f2acc-122a-48e4-876c-ffff0481630b"
      },
      "execution_count": 101,
      "outputs": [
        {
          "output_type": "stream",
          "name": "stdout",
          "text": [
            "[10 20 30 40 50]\n",
            "\n",
            "150\n",
            "\n",
            "10\n",
            "\n",
            "50\n",
            "\n",
            "40\n"
          ]
        }
      ]
    },
    {
      "cell_type": "markdown",
      "source": [
        "# 🧮 2️⃣ Statistical Functions\n",
        "\n",
        "| Function          | Description        | Example                         |\n",
        "| ----------------- | ------------------ | ------------------------------- |\n",
        "| `np.mean()`       | Average            | `np.mean(arr)` → 30.0           |\n",
        "| `np.median()`     | Middle value       | `np.median(arr)` → 30.0         |\n",
        "| `np.std()`        | Standard deviation | `np.std(arr)` → 14.14           |\n",
        "| `np.var()`        | Variance           | `np.var(arr)` → 200.0           |\n",
        "| `np.percentile()` | Percentile value   | `np.percentile(arr, 90)` → 46.0 |\n"
      ],
      "metadata": {
        "id": "70TM_sXaNG6b"
      }
    },
    {
      "cell_type": "code",
      "source": [
        "# 🧠 4️⃣ Correlation and Covariance\n",
        "\n",
        "# Correlation = relationship between two variables.\n",
        "\n",
        "x = np.array([10, 20, 30, 40, 50])\n",
        "y = np.array([2, 4, 6, 8, 10])\n",
        "\n",
        "print(np.corrcoef(x, y))\n",
        "print()\n",
        "\n",
        "# Covariance:\n",
        "\n",
        "print(np.cov(x, y))"
      ],
      "metadata": {
        "colab": {
          "base_uri": "https://localhost:8080/"
        },
        "id": "FhonveO_NE_2",
        "outputId": "7f8ba548-e264-4e32-aeb0-ef7430d6f7c0"
      },
      "execution_count": 105,
      "outputs": [
        {
          "output_type": "stream",
          "name": "stdout",
          "text": [
            "[[1. 1.]\n",
            " [1. 1.]]\n",
            "\n",
            "[[250.  50.]\n",
            " [ 50.  10.]]\n"
          ]
        }
      ]
    },
    {
      "cell_type": "markdown",
      "source": [
        "# 💡 5️⃣ Cumulative Operations\n",
        "\n",
        "| Function       | Description        | Example              |\n",
        "| -------------- | ------------------ | -------------------- |\n",
        "| `np.cumsum()`  | Cumulative sum     | `[10 30 60 100 150]` |\n",
        "| `np.cumprod()` | Cumulative product | `[10 200 6000 ...]`  |\n"
      ],
      "metadata": {
        "id": "hq4YCyOgPxi2"
      }
    },
    {
      "cell_type": "code",
      "source": [
        "arr = np.array([10, 20, 30, 40])\n",
        "print(np.cumsum(arr))\n",
        "print(np.cumprod(arr))"
      ],
      "metadata": {
        "colab": {
          "base_uri": "https://localhost:8080/"
        },
        "id": "NJOMTbY4P1OS",
        "outputId": "765704c4-1af1-4eac-f7d8-a9411b62b9e8"
      },
      "execution_count": 106,
      "outputs": [
        {
          "output_type": "stream",
          "name": "stdout",
          "text": [
            "[ 10  30  60 100]\n",
            "[    10    200   6000 240000]\n"
          ]
        }
      ]
    },
    {
      "cell_type": "markdown",
      "source": [
        "# ⚖️ 6️⃣ Rounding and Precision\n",
        "| Function     | Description         | Example                         |\n",
        "| ------------ | ------------------- | ------------------------------- |\n",
        "| `np.round()` | Round to n decimals | `np.round(3.14159, 2)` → `3.14` |\n",
        "| `np.floor()` | Round down          | `np.floor(3.9)` → `3.0`         |\n",
        "| `np.ceil()`  | Round up            | `np.ceil(3.1)` → `4.0`          |\n"
      ],
      "metadata": {
        "id": "oBILvat9P8Mm"
      }
    },
    {
      "cell_type": "code",
      "source": [
        "# Real Analyst Example: SLA Metrics\n",
        "\n",
        "sla_times = np.array([28, 35, 42, 31, 39, 48, 30, 33, 29])\n",
        "avg = np.mean(sla_times)\n",
        "std_dev = np.std(sla_times)\n",
        "within_sla = np.sum(sla_times <= 40)\n",
        "breach_rate = (len(sla_times) - within_sla) / len(sla_times) * 100\n",
        "\n",
        "print(f\"Average Delivery: {avg:.2f}\")\n",
        "print(f\"Std Deviation: {std_dev:.2f}\")\n",
        "print(f\"SLA Breach Rate: {breach_rate:.2f}%\")\n"
      ],
      "metadata": {
        "colab": {
          "base_uri": "https://localhost:8080/"
        },
        "id": "PqbXGDkXP6Hp",
        "outputId": "a29848a5-8751-4dd0-b9f3-d5a7486adf8b"
      },
      "execution_count": 108,
      "outputs": [
        {
          "output_type": "stream",
          "name": "stdout",
          "text": [
            "Average Delivery: 35.00\n",
            "Std Deviation: 6.36\n",
            "SLA Breach Rate: 22.22%\n"
          ]
        }
      ]
    },
    {
      "cell_type": "markdown",
      "source": [
        "# ⚙️ 3️⃣ Axis Parameter (Row vs Column Calculations)\n",
        "\n",
        "When working with 2D arrays, axis determines the direction of the calculation.\n",
        "\n",
        "\n",
        "| Function     | Code                    | Output          | Meaning          |\n",
        "| ------------ | ----------------------- | --------------- | ---------------- |\n",
        "| Column means | `np.mean(data, axis=0)` | `[40. 50. 60.]` | Down each column |\n",
        "| Row means    | `np.mean(data, axis=1)` | `[20. 50. 80.]` | Across each row  |\n",
        "| Column sum   | `np.sum(data, axis=0)`  | `[120 150 180]` | Total per column |\n",
        "| Row sum      | `np.sum(data, axis=1)`  | `[60 150 240]`  | Total per row    |\n",
        "\n",
        "\n",
        "| Operation              | axis=0         | axis=1      |\n",
        "| ---------------------- | -------------- | ----------- |\n",
        "| Works **down** columns | ✅              | ❌           |\n",
        "| Works **across** rows  | ❌              | ✅           |\n",
        "| Collapses rows         | ✅              | ❌           |\n",
        "| Collapses columns      | ❌              | ✅           |\n",
        "| Typical use            | Column summary | Row summary |\n",
        "\n"
      ],
      "metadata": {
        "id": "qHLTzgDuRr3C"
      }
    },
    {
      "cell_type": "code",
      "source": [
        "data = np.array([\n",
        "  [10, 20, 30],\n",
        "  [40, 50, 60],\n",
        "  [70, 80, 90]\n",
        "])\n",
        "\n",
        "\n",
        "print(data)\n",
        "print()\n",
        "\n",
        "# row collapse will be done by axis=0\n",
        "print(np.mean(data, axis=0))\n",
        "print()\n",
        "\n",
        "# column collapse will be done by axis=1\n",
        "print(np.mean(data, axis=1))\n",
        "print()\n",
        "\n"
      ],
      "metadata": {
        "colab": {
          "base_uri": "https://localhost:8080/"
        },
        "id": "-SHx-tw4QQb-",
        "outputId": "0ebce1fb-98d1-464f-bc0b-bb1897c0b5d4"
      },
      "execution_count": 113,
      "outputs": [
        {
          "output_type": "stream",
          "name": "stdout",
          "text": [
            "[[10 20 30]\n",
            " [40 50 60]\n",
            " [70 80 90]]\n",
            "\n",
            "[40. 50. 60.]\n",
            "\n",
            "[20. 50. 80.]\n",
            "\n"
          ]
        }
      ]
    },
    {
      "cell_type": "markdown",
      "source": [
        "# Combining & Splitting Arrays\n",
        "\n",
        "\n",
        "In analytics, you often need to:\n",
        "\n",
        "Combine datasets (merge rows or columns)\n",
        "\n",
        "Split large arrays into smaller chunks for separate analysis\n",
        "\n",
        "NumPy gives you clean, high-speed functions to do this — no loops or manual slicing."
      ],
      "metadata": {
        "id": "7GvRkwQLStn-"
      }
    },
    {
      "cell_type": "code",
      "source": [
        "# 💻 1️⃣ Combining Arrays (Merging / Joining)\n",
        "# 🔹 A. np.concatenate() → General-purpose join\n",
        "\n",
        "# You can join arrays along an axis (row-wise or column-wise).\n",
        "\n",
        "import numpy as np\n",
        "\n",
        "a = np.array([[1, 2],\n",
        "              [3, 4]])\n",
        "\n",
        "b = np.array([[5, 6],\n",
        "              [7, 8]])\n",
        "\n",
        "print(a)\n",
        "print()\n",
        "print(b)\n",
        "print()\n",
        "\n",
        "# ➤ Combine vertically (add rows)\n",
        "print(np.concatenate((a, b), axis=0))\n",
        "print()\n",
        "\n",
        "# ➤ Combine horizontally (add columns)\n",
        "print(np.concatenate((a, b), axis=1))\n",
        "\n",
        "# ✅ Axis=0 → stack down (rows)\n",
        "# ✅ Axis=1 → stack across (columns)"
      ],
      "metadata": {
        "colab": {
          "base_uri": "https://localhost:8080/"
        },
        "id": "HvUw2YmcSvEQ",
        "outputId": "dd2880ef-686b-4415-ed60-b940a9bf48a8"
      },
      "execution_count": 118,
      "outputs": [
        {
          "output_type": "stream",
          "name": "stdout",
          "text": [
            "[[1 2]\n",
            " [3 4]]\n",
            "\n",
            "[[5 6]\n",
            " [7 8]]\n",
            "\n",
            "[[1 2]\n",
            " [3 4]\n",
            " [5 6]\n",
            " [7 8]]\n",
            "\n",
            "[[1 2 5 6]\n",
            " [3 4 7 8]]\n"
          ]
        }
      ]
    },
    {
      "cell_type": "code",
      "source": [
        "# B. np.vstack() → Vertical Stack (Rows)\n",
        "\n",
        "# Shortcut for stacking row-wise (axis=0):\n",
        "\n",
        "print(np.vstack((a, b)))\n",
        "print()\n",
        "\n",
        "# np.hstack() → Horizontal Stack (Columns)\n",
        "\n",
        "# Shortcut for stacking column-wise (axis=1):\n",
        "\n",
        "print(np.hstack((a, b)))"
      ],
      "metadata": {
        "colab": {
          "base_uri": "https://localhost:8080/"
        },
        "id": "ChL-1eSyUJ_O",
        "outputId": "7c0e99f3-3be7-4da7-8c37-a56a9c00f2a1"
      },
      "execution_count": 124,
      "outputs": [
        {
          "output_type": "stream",
          "name": "stdout",
          "text": [
            "[[1 2]\n",
            " [3 4]\n",
            " [5 6]\n",
            " [7 8]]\n",
            "\n",
            "[[1 2 5 6]\n",
            " [3 4 7 8]]\n"
          ]
        }
      ]
    },
    {
      "cell_type": "code",
      "source": [
        "# 💻 2️⃣ Splitting Arrays (Breaking Apart)\n",
        "# 🔹 A. np.split() → Split along an axis\n",
        "arr = np.array([\n",
        "  [10, 20, 30, 40],\n",
        "  [50, 60, 70, 80]\n",
        "])\n",
        "print(arr)\n",
        "print()\n",
        "\n",
        "# ➤ Split into two equal column parts\n",
        "print(np.split(arr, 2, axis=1))\n",
        "print()\n",
        "\n",
        "# 🔹 B. Unequal splits with indices\n",
        "print(np.split(arr, [1, 3], axis=1))\n",
        "print()\n",
        "\n",
        "\n",
        "# Horizontal split (by columns)\n",
        "print(np.split(arr, 2, axis=1))\n",
        "print()\n",
        "\n",
        "# Vertical split (by rows)\n",
        "print(np.split(arr, 2, axis=0))\n",
        "print()"
      ],
      "metadata": {
        "colab": {
          "base_uri": "https://localhost:8080/"
        },
        "id": "uA4lVGe5Ut22",
        "outputId": "9df393af-dc2c-44d4-a9c8-2624c3dbaf62"
      },
      "execution_count": 132,
      "outputs": [
        {
          "output_type": "stream",
          "name": "stdout",
          "text": [
            "[[10 20 30 40]\n",
            " [50 60 70 80]]\n",
            "\n",
            "[array([[10, 20],\n",
            "       [50, 60]]), array([[30, 40],\n",
            "       [70, 80]])]\n",
            "\n",
            "[array([[10],\n",
            "       [50]]), array([[20, 30],\n",
            "       [60, 70]]), array([[40],\n",
            "       [80]])]\n",
            "\n",
            "[array([[10, 20],\n",
            "       [50, 60]]), array([[30, 40],\n",
            "       [70, 80]])]\n",
            "\n",
            "[array([[10, 20, 30, 40]]), array([[50, 60, 70, 80]])]\n",
            "\n"
          ]
        }
      ]
    },
    {
      "cell_type": "markdown",
      "source": [
        "# Broadcasting & Vectorization\n",
        "\n",
        "It’s a top interview topic too, especially when they ask:\n",
        "\n",
        "“Why is NumPy faster than Python lists?”\n",
        "\n",
        "“What is broadcasting in NumPy?”\n",
        "\n",
        "##🔹 What is Vectorization?\n",
        "\n",
        "Vectorization means performing operations on entire arrays instead of looping through elements one by one.\n",
        "\n"
      ],
      "metadata": {
        "id": "DbUr47GHVcel"
      }
    },
    {
      "cell_type": "code",
      "source": [
        "import numpy as np\n",
        "arr = np.array([1, 2, 3])\n",
        "result = arr * 2\n",
        "print(arr)\n",
        "print()\n",
        "print(result)\n",
        "\n",
        "# 🧠 NumPy internally performs this using vectorized C operations — it never loops in Python.\n",
        "# That’s why it’s 50–100x faster."
      ],
      "metadata": {
        "colab": {
          "base_uri": "https://localhost:8080/"
        },
        "id": "tKlRBnK9Vc0N",
        "outputId": "e3b77035-0360-4463-fe77-6dba7d1df269"
      },
      "execution_count": 134,
      "outputs": [
        {
          "output_type": "stream",
          "name": "stdout",
          "text": [
            "[1 2 3]\n",
            "\n",
            "[2 4 6]\n"
          ]
        }
      ]
    },
    {
      "cell_type": "code",
      "source": [
        "# Basic Example: Scalar Broadcasting\n",
        "arr = np.array([10, 20, 30])\n",
        "result = arr + 5\n",
        "print(result)# ✅ The scalar 5 is broadcasted to all elements of the array."
      ],
      "metadata": {
        "colab": {
          "base_uri": "https://localhost:8080/"
        },
        "id": "rexJBSOtYG8F",
        "outputId": "affb34ec-abb2-4361-868b-088e1bf9e35f"
      },
      "execution_count": 136,
      "outputs": [
        {
          "output_type": "stream",
          "name": "stdout",
          "text": [
            "[15 25 35]\n"
          ]
        }
      ]
    },
    {
      "cell_type": "code",
      "source": [
        "# 2️⃣ Broadcasting with 1D and 2D Arrays\n",
        "a = np.array([[1, 2, 3],\n",
        "              [4, 5, 6]])\n",
        "b = np.array([10, 20, 30])\n",
        "print(a)\n",
        "print()\n",
        "print(b)\n",
        "print()\n",
        "\n",
        "print(a + b)\n",
        "print()\n",
        "print(a*b)\n",
        "\n",
        "# ✅ NumPy stretches b (1×3) to match a (2×3):"
      ],
      "metadata": {
        "colab": {
          "base_uri": "https://localhost:8080/"
        },
        "id": "8yUwrgaOYtP4",
        "outputId": "65bf5dcc-da45-4c84-b69b-89390624a7cc"
      },
      "execution_count": 141,
      "outputs": [
        {
          "output_type": "stream",
          "name": "stdout",
          "text": [
            "[[1 2 3]\n",
            " [4 5 6]]\n",
            "\n",
            "[10 20 30]\n",
            "\n",
            "[[11 22 33]\n",
            " [14 25 36]]\n",
            "\n",
            "[[ 10  40  90]\n",
            " [ 40 100 180]]\n"
          ]
        }
      ]
    },
    {
      "cell_type": "code",
      "source": [
        "# Column Broadcasting (Vertical Expansion)\n",
        "a = np.array([[1, 2, 3],\n",
        "              [4, 5, 6],\n",
        "              [7, 8, 9]])\n",
        "b = np.array([[10],\n",
        "              [20],\n",
        "              [30]])\n",
        "\n",
        "print(a)\n",
        "print()\n",
        "print(b)\n",
        "print()\n",
        "\n",
        "print(a + b)\n",
        "print()\n",
        "print(a*b)\n"
      ],
      "metadata": {
        "colab": {
          "base_uri": "https://localhost:8080/"
        },
        "id": "uYiRSfbuZVaJ",
        "outputId": "4be4aecb-ffc8-4586-cec5-e137470fd10a"
      },
      "execution_count": 145,
      "outputs": [
        {
          "output_type": "stream",
          "name": "stdout",
          "text": [
            "[[1 2 3]\n",
            " [4 5 6]\n",
            " [7 8 9]]\n",
            "\n",
            "[[10]\n",
            " [20]\n",
            " [30]]\n",
            "\n",
            "[[11 12 13]\n",
            " [24 25 26]\n",
            " [37 38 39]]\n",
            "\n",
            "[[ 10  20  30]\n",
            " [ 80 100 120]\n",
            " [210 240 270]]\n"
          ]
        }
      ]
    },
    {
      "cell_type": "markdown",
      "source": [
        "# 💡 4️⃣ Rules of Broadcasting\n",
        "\n",
        "When operating on two arrays, NumPy compares their shapes from right to left.\n",
        "\n",
        "Two dimensions are compatible when:\n",
        "\n",
        "They are equal, OR\n",
        "\n",
        "One of them is 1\n",
        "\n",
        "If not compatible → ❌ ValueError: operands could not be broadcast together\n",
        "\n",
        "| A Shape   | B Shape   | Works? | Explanation                          |\n",
        "| --------- | --------- | ------ | ------------------------------------ |\n",
        "| (3, )     | (3, )     | ✅      | Same size                            |\n",
        "| (3, )     | (1, )     | ✅      | 1 can broadcast                      |\n",
        "| (2, 3)    | (3, )     | ✅      | 3 matches, 1 missing axis broadcasts |\n",
        "| (3, 2)    | (2, 3)    | ❌      | Mismatched dimensions                |\n",
        "| (4, 1, 3) | (1, 5, 3) | ✅      | 1s broadcast to 4 and 5              |\n"
      ],
      "metadata": {
        "id": "5IGeQ0jaZpVf"
      }
    },
    {
      "cell_type": "markdown",
      "source": [
        "# ⚔️ Vectorization vs Broadcasting — The Real Difference\n",
        "| Concept                 | **Vectorization**                                                              | **Broadcasting**                                                           |\n",
        "| ----------------------- | ------------------------------------------------------------------------------ | -------------------------------------------------------------------------- |\n",
        "| **What it means**       | Performing operations on *entire arrays* instead of looping element-by-element | Making arrays of *different shapes* compatible for element-wise operations |\n",
        "| **Purpose**             | Speed — replace loops with optimized array math                                | Flexibility — allow operations between mismatched shapes                   |\n",
        "| **When it happens**     | When both arrays are already the same shape                                    | When NumPy has to stretch (broadcast) one array to match another           |\n",
        "| **Example (simple)**    | `arr * 2` — every element multiplied by 2                                      | `matrix + [1, 2, 3]` — 1D array stretched across rows                      |\n",
        "| **Needs same shape?**   | ✅ Yes (same shape)                                                             | ❌ No (NumPy auto-expands)                                                  |\n",
        "| **Keyword to remember** | “No loops”                                                                     | “Shape matching”                                                           |\n",
        "| **Analyst use case**    | Normalization, scaling, KPI math                                               | Adding a row/column average to full dataset                                |\n"
      ],
      "metadata": {
        "id": "-nLIRKf_ami0"
      }
    },
    {
      "cell_type": "markdown",
      "source": [
        "# File Input/Output\n",
        "\n",
        "🟢 Loading data from a file (CSV, TXT, etc.) → into NumPy arrays\n",
        "\n",
        "🔵 Saving arrays back to files → for reuse or sharing\n",
        "\n",
        "NumPy supports both:\n",
        "\n",
        "Text-based files → .txt, .csv (human-readable)\n",
        "\n",
        "Binary files → .npy, .npz (fast and compact for internal use)"
      ],
      "metadata": {
        "id": "2l7O5BOZawx4"
      }
    },
    {
      "cell_type": "code",
      "source": [
        "# 💻 1️⃣ Saving and Loading Binary Files\n",
        "\n",
        "# This is the fastest and most accurate way to store arrays.\n",
        "\n",
        "# 🔹 Save a single array\n",
        "import numpy as np\n",
        "\n",
        "arr = np.array([[10, 20, 30],\n",
        "                [40, 50, 60]])\n",
        "\n",
        "np.save('my_array.npy', arr)\n",
        "\n",
        "# 🔹 Load it back\n",
        "loaded = np.load('my_array.npy')\n",
        "print(loaded)"
      ],
      "metadata": {
        "colab": {
          "base_uri": "https://localhost:8080/"
        },
        "id": "YLeoWHM2eRvd",
        "outputId": "d414cc1a-e660-4af9-ea22-df530fd00b7b"
      },
      "execution_count": 147,
      "outputs": [
        {
          "output_type": "stream",
          "name": "stdout",
          "text": [
            "[[10 20 30]\n",
            " [40 50 60]]\n"
          ]
        }
      ]
    },
    {
      "cell_type": "code",
      "source": [
        "# 🔹 Save multiple arrays together\n",
        "a = np.array([1, 2, 3])\n",
        "b = np.array([4, 5, 6])\n",
        "np.savez('multi_arrays.npz', first=a, second=b)\n",
        "\n",
        "# Load it back\n",
        "data = np.load('multi_arrays.npz')\n",
        "print(data['first'])\n",
        "print(data['second'])\n",
        "\n",
        "# ✅ np.savez() stores multiple arrays in one zipped binary file."
      ],
      "metadata": {
        "colab": {
          "base_uri": "https://localhost:8080/"
        },
        "id": "4oepyUTMfnq2",
        "outputId": "34d549d4-14d5-446c-a356-d5e5c4215f7e"
      },
      "execution_count": 149,
      "outputs": [
        {
          "output_type": "stream",
          "name": "stdout",
          "text": [
            "[1 2 3]\n",
            "[4 5 6]\n"
          ]
        }
      ]
    },
    {
      "cell_type": "code",
      "source": [
        "# 💻 2️⃣ Working with Text Files (CSV or TXT)\n",
        "# 🔹 Save as a text file\n",
        "arr = np.array([[10, 20, 30],\n",
        "                [40, 50, 60]])\n",
        "\n",
        "np.savetxt('data.csv', arr, delimiter=',', fmt='%d') # ✅ Creates a readable .csv\n",
        "\n",
        "# 🔹 Load a text file\n",
        "loaded = np.loadtxt('data.csv', delimiter=',')\n",
        "print(loaded) #✅ Returns float by default (even if original was int)."
      ],
      "metadata": {
        "colab": {
          "base_uri": "https://localhost:8080/"
        },
        "id": "I41jTDQkf1GD",
        "outputId": "2fc0b845-6727-4bad-d1bf-00f8f5e2b7ae"
      },
      "execution_count": 151,
      "outputs": [
        {
          "output_type": "stream",
          "name": "stdout",
          "text": [
            "[[10. 20. 30.]\n",
            " [40. 50. 60.]]\n"
          ]
        }
      ]
    },
    {
      "cell_type": "code",
      "source": [
        "# ⚙️ 3️⃣ Loading Complex CSVs with Missing or Mixed Data\n",
        "\n",
        "# For text data that’s not perfectly numeric, use np.genfromtxt() — it’s smarter than loadtxt().\n",
        "\n",
        "arr = np.genfromtxt('data.csv', delimiter=',', filling_values=0)\n",
        "\n",
        "\n",
        "# ✅ Automatically replaces missing values with 0."
      ],
      "metadata": {
        "id": "ihTZwOvYhGWt"
      },
      "execution_count": 152,
      "outputs": []
    },
    {
      "cell_type": "markdown",
      "source": [
        "# 🧩 Topic 10: Integration with Pandas\n",
        "\n",
        "NumPy = low-level numeric engine\n",
        "\n",
        "Pandas = high-level data manipulation tool (built on top of NumPy)\n",
        "\n",
        "That means:\n",
        "➡️ Pandas uses NumPy arrays internally to store data.\n",
        "\n",
        "➡️ Every Pandas DataFrame or Series is essentially a labeled NumPy array."
      ],
      "metadata": {
        "id": "dXYxquClii_W"
      }
    },
    {
      "cell_type": "code",
      "source": [
        "# 💻 1️⃣ Converting Between NumPy Arrays and Pandas\n",
        "# 🔹 A. NumPy → Pandas\n",
        "\n",
        "# You can create a Pandas DataFrame directly from a NumPy array.\n",
        "\n",
        "import numpy as np\n",
        "import pandas as pd\n",
        "\n",
        "arr = np.array([[10, 20, 30],\n",
        "                [40, 50, 60],\n",
        "                [70, 80, 90]])\n",
        "\n",
        "df = pd.DataFrame(arr, columns=['Q1', 'Q2', 'Q3'])\n",
        "print(df)\n",
        "print()\n",
        "# 🔹 B. Pandas → NumPy\n",
        "\n",
        "# Any DataFrame or Series can be converted back to a NumPy array using .to_numpy() or .values.\n",
        "\n",
        "arr2 = df.to_numpy()\n",
        "print(arr2)\n",
        "print()\n",
        "\n",
        "# ⚙️ 2️⃣ Selecting Columns as NumPy Arrays\n",
        "\n",
        "# You can pull columns from a DataFrame as NumPy arrays.\n",
        "\n",
        "df['Q1'].to_numpy()\n",
        "# Output: array([10, 40, 70])"
      ],
      "metadata": {
        "colab": {
          "base_uri": "https://localhost:8080/"
        },
        "id": "aEpxSyWbijV7",
        "outputId": "566a47a6-134a-4363-8a43-8403be1d72e8"
      },
      "execution_count": 155,
      "outputs": [
        {
          "output_type": "stream",
          "name": "stdout",
          "text": [
            "   Q1  Q2  Q3\n",
            "0  10  20  30\n",
            "1  40  50  60\n",
            "2  70  80  90\n",
            "\n",
            "[[10 20 30]\n",
            " [40 50 60]\n",
            " [70 80 90]]\n"
          ]
        }
      ]
    },
    {
      "cell_type": "markdown",
      "source": [
        "# 💡 Common NumPy functions used on Pandas:\n",
        "\n",
        "| Function     | Example                                  | Description                   |\n",
        "| ------------ | ---------------------------------------- | ----------------------------- |\n",
        "| `np.mean()`  | `np.mean(df)`                            | Column averages               |\n",
        "| `np.sum()`   | `np.sum(df, axis=1)`                     | Row totals                    |\n",
        "| `np.std()`   | `np.std(df)`                             | Standard deviation per column |\n",
        "| `np.where()` | `np.where(df['Q1'] > 50, 'High', 'Low')` | Conditional labeling          |\n",
        "| `np.isnan()` | `df[np.isnan(df['Q2'])]`                 | Detect NaN rows               |\n"
      ],
      "metadata": {
        "id": "NhAK0KCQkH1m"
      }
    },
    {
      "cell_type": "code",
      "source": [
        "# 🧠 3️⃣ Using NumPy Functions Directly on Pandas\n",
        "# Because Pandas is built on NumPy, most NumPy functions work directly on DataFrames or Series.\n",
        "print(df)\n",
        "print()\n",
        "\n",
        "print(np.mean(df))\n",
        "print()\n",
        "\n",
        "print(np.sum(df))\n",
        "print()\n",
        "\n",
        "print(df.sum())\n",
        "print()\n",
        "\n",
        "print(np.min(df))\n",
        "print()\n",
        "\n",
        "print(df.min())\n"
      ],
      "metadata": {
        "colab": {
          "base_uri": "https://localhost:8080/"
        },
        "id": "ZCRZnvktjfID",
        "outputId": "d565cc65-e445-440e-91ec-8954ab9f8856"
      },
      "execution_count": 165,
      "outputs": [
        {
          "output_type": "stream",
          "name": "stdout",
          "text": [
            "   Q1  Q2  Q3\n",
            "0  10  20  30\n",
            "1  40  50  60\n",
            "2  70  80  90\n",
            "\n",
            "50.0\n",
            "\n",
            "Q1    120\n",
            "Q2    150\n",
            "Q3    180\n",
            "dtype: int64\n",
            "\n",
            "Q1    120\n",
            "Q2    150\n",
            "Q3    180\n",
            "dtype: int64\n",
            "\n",
            "10\n",
            "\n",
            "Q1    10\n",
            "Q2    20\n",
            "Q3    30\n",
            "dtype: int64\n"
          ]
        },
        {
          "output_type": "stream",
          "name": "stderr",
          "text": [
            "/usr/local/lib/python3.12/dist-packages/numpy/_core/fromnumeric.py:84: FutureWarning: The behavior of DataFrame.sum with axis=None is deprecated, in a future version this will reduce over both axes and return a scalar. To retain the old behavior, pass axis=0 (or do not pass axis)\n",
            "  return reduction(axis=axis, out=out, **passkwargs)\n"
          ]
        }
      ]
    },
    {
      "cell_type": "markdown",
      "source": [
        "# PRACTICE"
      ],
      "metadata": {
        "id": "vJFuqrJplLN6"
      }
    },
    {
      "cell_type": "code",
      "source": [
        "import pandas as pd\n",
        "import numpy as np\n",
        "\n",
        "data = {\n",
        "    'Region': ['North', 'South', 'East', 'West', 'Central'],\n",
        "    'Q1_Sales': [120, 85, 90, 150, 110],\n",
        "    'Q2_Sales': [130, 95, np.nan, 160, 115],\n",
        "    'Q3_Sales': [140, 100, 120, 170, np.nan],\n",
        "    'Target': [125, 90, 100, 160, 110]\n",
        "}\n",
        "\n",
        "df = pd.DataFrame(data)\n",
        "print(df)\n"
      ],
      "metadata": {
        "colab": {
          "base_uri": "https://localhost:8080/"
        },
        "id": "oAv6ULonlMfm",
        "outputId": "71c4c973-a3c8-490a-ffef-f70a76378267"
      },
      "execution_count": 208,
      "outputs": [
        {
          "output_type": "stream",
          "name": "stdout",
          "text": [
            "    Region  Q1_Sales  Q2_Sales  Q3_Sales  Target\n",
            "0    North       120     130.0     140.0     125\n",
            "1    South        85      95.0     100.0      90\n",
            "2     East        90       NaN     120.0     100\n",
            "3     West       150     160.0     170.0     160\n",
            "4  Central       110     115.0       NaN     110\n"
          ]
        }
      ]
    },
    {
      "cell_type": "code",
      "source": [
        "# 👉 Calculate the average sales per quarter (Q1, Q2, Q3) ignoring missing values.\n",
        "\n",
        "print(np.nanmean(df[['Q1_Sales']]))\n",
        "print(np.nanmean(df[['Q2_Sales']]))\n",
        "print(np.nanmean(df[['Q3_Sales']]))"
      ],
      "metadata": {
        "colab": {
          "base_uri": "https://localhost:8080/"
        },
        "id": "jYwgWesyl4tB",
        "outputId": "a5422af5-c6d2-4853-f806-fe782fe97a5f"
      },
      "execution_count": 209,
      "outputs": [
        {
          "output_type": "stream",
          "name": "stdout",
          "text": [
            "111.0\n",
            "125.0\n",
            "132.5\n"
          ]
        }
      ]
    },
    {
      "cell_type": "code",
      "source": [
        "# Create a new column \"Status\" using np.where() such that:\n",
        "\n",
        "# \"Met Target\" if average quarterly sales ≥ Target\n",
        "\n",
        "# \"Missed Target\" otherwise.\n",
        "\n",
        "# step 1: calculate quarterly avg\n",
        "\n",
        "avg_quarterly = np.array(df[['Q1_Sales','Q2_Sales','Q3_Sales']].mean(axis=1))\n",
        "\n",
        "# step 2: creating new column status\n",
        "df['status'] = np.where(avg_quarterly >= df['Target'],\"Met Target\",\"Missed Target\")\n",
        "\n",
        "df"
      ],
      "metadata": {
        "colab": {
          "base_uri": "https://localhost:8080/",
          "height": 206
        },
        "id": "z05vQiqfmjWs",
        "outputId": "100a03fd-cf08-47f3-d9bc-0ba1e734b16d"
      },
      "execution_count": 210,
      "outputs": [
        {
          "output_type": "execute_result",
          "data": {
            "text/plain": [
              "    Region  Q1_Sales  Q2_Sales  Q3_Sales  Target      status\n",
              "0    North       120     130.0     140.0     125  Met Target\n",
              "1    South        85      95.0     100.0      90  Met Target\n",
              "2     East        90       NaN     120.0     100  Met Target\n",
              "3     West       150     160.0     170.0     160  Met Target\n",
              "4  Central       110     115.0       NaN     110  Met Target"
            ],
            "text/html": [
              "\n",
              "  <div id=\"df-a94df0d1-d1be-4917-8119-be33bbb47bf0\" class=\"colab-df-container\">\n",
              "    <div>\n",
              "<style scoped>\n",
              "    .dataframe tbody tr th:only-of-type {\n",
              "        vertical-align: middle;\n",
              "    }\n",
              "\n",
              "    .dataframe tbody tr th {\n",
              "        vertical-align: top;\n",
              "    }\n",
              "\n",
              "    .dataframe thead th {\n",
              "        text-align: right;\n",
              "    }\n",
              "</style>\n",
              "<table border=\"1\" class=\"dataframe\">\n",
              "  <thead>\n",
              "    <tr style=\"text-align: right;\">\n",
              "      <th></th>\n",
              "      <th>Region</th>\n",
              "      <th>Q1_Sales</th>\n",
              "      <th>Q2_Sales</th>\n",
              "      <th>Q3_Sales</th>\n",
              "      <th>Target</th>\n",
              "      <th>status</th>\n",
              "    </tr>\n",
              "  </thead>\n",
              "  <tbody>\n",
              "    <tr>\n",
              "      <th>0</th>\n",
              "      <td>North</td>\n",
              "      <td>120</td>\n",
              "      <td>130.0</td>\n",
              "      <td>140.0</td>\n",
              "      <td>125</td>\n",
              "      <td>Met Target</td>\n",
              "    </tr>\n",
              "    <tr>\n",
              "      <th>1</th>\n",
              "      <td>South</td>\n",
              "      <td>85</td>\n",
              "      <td>95.0</td>\n",
              "      <td>100.0</td>\n",
              "      <td>90</td>\n",
              "      <td>Met Target</td>\n",
              "    </tr>\n",
              "    <tr>\n",
              "      <th>2</th>\n",
              "      <td>East</td>\n",
              "      <td>90</td>\n",
              "      <td>NaN</td>\n",
              "      <td>120.0</td>\n",
              "      <td>100</td>\n",
              "      <td>Met Target</td>\n",
              "    </tr>\n",
              "    <tr>\n",
              "      <th>3</th>\n",
              "      <td>West</td>\n",
              "      <td>150</td>\n",
              "      <td>160.0</td>\n",
              "      <td>170.0</td>\n",
              "      <td>160</td>\n",
              "      <td>Met Target</td>\n",
              "    </tr>\n",
              "    <tr>\n",
              "      <th>4</th>\n",
              "      <td>Central</td>\n",
              "      <td>110</td>\n",
              "      <td>115.0</td>\n",
              "      <td>NaN</td>\n",
              "      <td>110</td>\n",
              "      <td>Met Target</td>\n",
              "    </tr>\n",
              "  </tbody>\n",
              "</table>\n",
              "</div>\n",
              "    <div class=\"colab-df-buttons\">\n",
              "\n",
              "  <div class=\"colab-df-container\">\n",
              "    <button class=\"colab-df-convert\" onclick=\"convertToInteractive('df-a94df0d1-d1be-4917-8119-be33bbb47bf0')\"\n",
              "            title=\"Convert this dataframe to an interactive table.\"\n",
              "            style=\"display:none;\">\n",
              "\n",
              "  <svg xmlns=\"http://www.w3.org/2000/svg\" height=\"24px\" viewBox=\"0 -960 960 960\">\n",
              "    <path d=\"M120-120v-720h720v720H120Zm60-500h600v-160H180v160Zm220 220h160v-160H400v160Zm0 220h160v-160H400v160ZM180-400h160v-160H180v160Zm440 0h160v-160H620v160ZM180-180h160v-160H180v160Zm440 0h160v-160H620v160Z\"/>\n",
              "  </svg>\n",
              "    </button>\n",
              "\n",
              "  <style>\n",
              "    .colab-df-container {\n",
              "      display:flex;\n",
              "      gap: 12px;\n",
              "    }\n",
              "\n",
              "    .colab-df-convert {\n",
              "      background-color: #E8F0FE;\n",
              "      border: none;\n",
              "      border-radius: 50%;\n",
              "      cursor: pointer;\n",
              "      display: none;\n",
              "      fill: #1967D2;\n",
              "      height: 32px;\n",
              "      padding: 0 0 0 0;\n",
              "      width: 32px;\n",
              "    }\n",
              "\n",
              "    .colab-df-convert:hover {\n",
              "      background-color: #E2EBFA;\n",
              "      box-shadow: 0px 1px 2px rgba(60, 64, 67, 0.3), 0px 1px 3px 1px rgba(60, 64, 67, 0.15);\n",
              "      fill: #174EA6;\n",
              "    }\n",
              "\n",
              "    .colab-df-buttons div {\n",
              "      margin-bottom: 4px;\n",
              "    }\n",
              "\n",
              "    [theme=dark] .colab-df-convert {\n",
              "      background-color: #3B4455;\n",
              "      fill: #D2E3FC;\n",
              "    }\n",
              "\n",
              "    [theme=dark] .colab-df-convert:hover {\n",
              "      background-color: #434B5C;\n",
              "      box-shadow: 0px 1px 3px 1px rgba(0, 0, 0, 0.15);\n",
              "      filter: drop-shadow(0px 1px 2px rgba(0, 0, 0, 0.3));\n",
              "      fill: #FFFFFF;\n",
              "    }\n",
              "  </style>\n",
              "\n",
              "    <script>\n",
              "      const buttonEl =\n",
              "        document.querySelector('#df-a94df0d1-d1be-4917-8119-be33bbb47bf0 button.colab-df-convert');\n",
              "      buttonEl.style.display =\n",
              "        google.colab.kernel.accessAllowed ? 'block' : 'none';\n",
              "\n",
              "      async function convertToInteractive(key) {\n",
              "        const element = document.querySelector('#df-a94df0d1-d1be-4917-8119-be33bbb47bf0');\n",
              "        const dataTable =\n",
              "          await google.colab.kernel.invokeFunction('convertToInteractive',\n",
              "                                                    [key], {});\n",
              "        if (!dataTable) return;\n",
              "\n",
              "        const docLinkHtml = 'Like what you see? Visit the ' +\n",
              "          '<a target=\"_blank\" href=https://colab.research.google.com/notebooks/data_table.ipynb>data table notebook</a>'\n",
              "          + ' to learn more about interactive tables.';\n",
              "        element.innerHTML = '';\n",
              "        dataTable['output_type'] = 'display_data';\n",
              "        await google.colab.output.renderOutput(dataTable, element);\n",
              "        const docLink = document.createElement('div');\n",
              "        docLink.innerHTML = docLinkHtml;\n",
              "        element.appendChild(docLink);\n",
              "      }\n",
              "    </script>\n",
              "  </div>\n",
              "\n",
              "\n",
              "    <div id=\"df-ca748402-5f79-48ef-919c-ef8474fe2be9\">\n",
              "      <button class=\"colab-df-quickchart\" onclick=\"quickchart('df-ca748402-5f79-48ef-919c-ef8474fe2be9')\"\n",
              "                title=\"Suggest charts\"\n",
              "                style=\"display:none;\">\n",
              "\n",
              "<svg xmlns=\"http://www.w3.org/2000/svg\" height=\"24px\"viewBox=\"0 0 24 24\"\n",
              "     width=\"24px\">\n",
              "    <g>\n",
              "        <path d=\"M19 3H5c-1.1 0-2 .9-2 2v14c0 1.1.9 2 2 2h14c1.1 0 2-.9 2-2V5c0-1.1-.9-2-2-2zM9 17H7v-7h2v7zm4 0h-2V7h2v10zm4 0h-2v-4h2v4z\"/>\n",
              "    </g>\n",
              "</svg>\n",
              "      </button>\n",
              "\n",
              "<style>\n",
              "  .colab-df-quickchart {\n",
              "      --bg-color: #E8F0FE;\n",
              "      --fill-color: #1967D2;\n",
              "      --hover-bg-color: #E2EBFA;\n",
              "      --hover-fill-color: #174EA6;\n",
              "      --disabled-fill-color: #AAA;\n",
              "      --disabled-bg-color: #DDD;\n",
              "  }\n",
              "\n",
              "  [theme=dark] .colab-df-quickchart {\n",
              "      --bg-color: #3B4455;\n",
              "      --fill-color: #D2E3FC;\n",
              "      --hover-bg-color: #434B5C;\n",
              "      --hover-fill-color: #FFFFFF;\n",
              "      --disabled-bg-color: #3B4455;\n",
              "      --disabled-fill-color: #666;\n",
              "  }\n",
              "\n",
              "  .colab-df-quickchart {\n",
              "    background-color: var(--bg-color);\n",
              "    border: none;\n",
              "    border-radius: 50%;\n",
              "    cursor: pointer;\n",
              "    display: none;\n",
              "    fill: var(--fill-color);\n",
              "    height: 32px;\n",
              "    padding: 0;\n",
              "    width: 32px;\n",
              "  }\n",
              "\n",
              "  .colab-df-quickchart:hover {\n",
              "    background-color: var(--hover-bg-color);\n",
              "    box-shadow: 0 1px 2px rgba(60, 64, 67, 0.3), 0 1px 3px 1px rgba(60, 64, 67, 0.15);\n",
              "    fill: var(--button-hover-fill-color);\n",
              "  }\n",
              "\n",
              "  .colab-df-quickchart-complete:disabled,\n",
              "  .colab-df-quickchart-complete:disabled:hover {\n",
              "    background-color: var(--disabled-bg-color);\n",
              "    fill: var(--disabled-fill-color);\n",
              "    box-shadow: none;\n",
              "  }\n",
              "\n",
              "  .colab-df-spinner {\n",
              "    border: 2px solid var(--fill-color);\n",
              "    border-color: transparent;\n",
              "    border-bottom-color: var(--fill-color);\n",
              "    animation:\n",
              "      spin 1s steps(1) infinite;\n",
              "  }\n",
              "\n",
              "  @keyframes spin {\n",
              "    0% {\n",
              "      border-color: transparent;\n",
              "      border-bottom-color: var(--fill-color);\n",
              "      border-left-color: var(--fill-color);\n",
              "    }\n",
              "    20% {\n",
              "      border-color: transparent;\n",
              "      border-left-color: var(--fill-color);\n",
              "      border-top-color: var(--fill-color);\n",
              "    }\n",
              "    30% {\n",
              "      border-color: transparent;\n",
              "      border-left-color: var(--fill-color);\n",
              "      border-top-color: var(--fill-color);\n",
              "      border-right-color: var(--fill-color);\n",
              "    }\n",
              "    40% {\n",
              "      border-color: transparent;\n",
              "      border-right-color: var(--fill-color);\n",
              "      border-top-color: var(--fill-color);\n",
              "    }\n",
              "    60% {\n",
              "      border-color: transparent;\n",
              "      border-right-color: var(--fill-color);\n",
              "    }\n",
              "    80% {\n",
              "      border-color: transparent;\n",
              "      border-right-color: var(--fill-color);\n",
              "      border-bottom-color: var(--fill-color);\n",
              "    }\n",
              "    90% {\n",
              "      border-color: transparent;\n",
              "      border-bottom-color: var(--fill-color);\n",
              "    }\n",
              "  }\n",
              "</style>\n",
              "\n",
              "      <script>\n",
              "        async function quickchart(key) {\n",
              "          const quickchartButtonEl =\n",
              "            document.querySelector('#' + key + ' button');\n",
              "          quickchartButtonEl.disabled = true;  // To prevent multiple clicks.\n",
              "          quickchartButtonEl.classList.add('colab-df-spinner');\n",
              "          try {\n",
              "            const charts = await google.colab.kernel.invokeFunction(\n",
              "                'suggestCharts', [key], {});\n",
              "          } catch (error) {\n",
              "            console.error('Error during call to suggestCharts:', error);\n",
              "          }\n",
              "          quickchartButtonEl.classList.remove('colab-df-spinner');\n",
              "          quickchartButtonEl.classList.add('colab-df-quickchart-complete');\n",
              "        }\n",
              "        (() => {\n",
              "          let quickchartButtonEl =\n",
              "            document.querySelector('#df-ca748402-5f79-48ef-919c-ef8474fe2be9 button');\n",
              "          quickchartButtonEl.style.display =\n",
              "            google.colab.kernel.accessAllowed ? 'block' : 'none';\n",
              "        })();\n",
              "      </script>\n",
              "    </div>\n",
              "\n",
              "  <div id=\"id_fcd14a76-cb53-4f0a-9293-71567470f8a7\">\n",
              "    <style>\n",
              "      .colab-df-generate {\n",
              "        background-color: #E8F0FE;\n",
              "        border: none;\n",
              "        border-radius: 50%;\n",
              "        cursor: pointer;\n",
              "        display: none;\n",
              "        fill: #1967D2;\n",
              "        height: 32px;\n",
              "        padding: 0 0 0 0;\n",
              "        width: 32px;\n",
              "      }\n",
              "\n",
              "      .colab-df-generate:hover {\n",
              "        background-color: #E2EBFA;\n",
              "        box-shadow: 0px 1px 2px rgba(60, 64, 67, 0.3), 0px 1px 3px 1px rgba(60, 64, 67, 0.15);\n",
              "        fill: #174EA6;\n",
              "      }\n",
              "\n",
              "      [theme=dark] .colab-df-generate {\n",
              "        background-color: #3B4455;\n",
              "        fill: #D2E3FC;\n",
              "      }\n",
              "\n",
              "      [theme=dark] .colab-df-generate:hover {\n",
              "        background-color: #434B5C;\n",
              "        box-shadow: 0px 1px 3px 1px rgba(0, 0, 0, 0.15);\n",
              "        filter: drop-shadow(0px 1px 2px rgba(0, 0, 0, 0.3));\n",
              "        fill: #FFFFFF;\n",
              "      }\n",
              "    </style>\n",
              "    <button class=\"colab-df-generate\" onclick=\"generateWithVariable('df')\"\n",
              "            title=\"Generate code using this dataframe.\"\n",
              "            style=\"display:none;\">\n",
              "\n",
              "  <svg xmlns=\"http://www.w3.org/2000/svg\" height=\"24px\"viewBox=\"0 0 24 24\"\n",
              "       width=\"24px\">\n",
              "    <path d=\"M7,19H8.4L18.45,9,17,7.55,7,17.6ZM5,21V16.75L18.45,3.32a2,2,0,0,1,2.83,0l1.4,1.43a1.91,1.91,0,0,1,.58,1.4,1.91,1.91,0,0,1-.58,1.4L9.25,21ZM18.45,9,17,7.55Zm-12,3A5.31,5.31,0,0,0,4.9,8.1,5.31,5.31,0,0,0,1,6.5,5.31,5.31,0,0,0,4.9,4.9,5.31,5.31,0,0,0,6.5,1,5.31,5.31,0,0,0,8.1,4.9,5.31,5.31,0,0,0,12,6.5,5.46,5.46,0,0,0,6.5,12Z\"/>\n",
              "  </svg>\n",
              "    </button>\n",
              "    <script>\n",
              "      (() => {\n",
              "      const buttonEl =\n",
              "        document.querySelector('#id_fcd14a76-cb53-4f0a-9293-71567470f8a7 button.colab-df-generate');\n",
              "      buttonEl.style.display =\n",
              "        google.colab.kernel.accessAllowed ? 'block' : 'none';\n",
              "\n",
              "      buttonEl.onclick = () => {\n",
              "        google.colab.notebook.generateWithVariable('df');\n",
              "      }\n",
              "      })();\n",
              "    </script>\n",
              "  </div>\n",
              "\n",
              "    </div>\n",
              "  </div>\n"
            ],
            "application/vnd.google.colaboratory.intrinsic+json": {
              "type": "dataframe",
              "variable_name": "df",
              "summary": "{\n  \"name\": \"df\",\n  \"rows\": 5,\n  \"fields\": [\n    {\n      \"column\": \"Region\",\n      \"properties\": {\n        \"dtype\": \"string\",\n        \"num_unique_values\": 5,\n        \"samples\": [\n          \"South\",\n          \"Central\",\n          \"East\"\n        ],\n        \"semantic_type\": \"\",\n        \"description\": \"\"\n      }\n    },\n    {\n      \"column\": \"Q1_Sales\",\n      \"properties\": {\n        \"dtype\": \"number\",\n        \"std\": 26,\n        \"min\": 85,\n        \"max\": 150,\n        \"num_unique_values\": 5,\n        \"samples\": [\n          85,\n          110,\n          90\n        ],\n        \"semantic_type\": \"\",\n        \"description\": \"\"\n      }\n    },\n    {\n      \"column\": \"Q2_Sales\",\n      \"properties\": {\n        \"dtype\": \"number\",\n        \"std\": 27.386127875258307,\n        \"min\": 95.0,\n        \"max\": 160.0,\n        \"num_unique_values\": 4,\n        \"samples\": [\n          95.0,\n          115.0,\n          130.0\n        ],\n        \"semantic_type\": \"\",\n        \"description\": \"\"\n      }\n    },\n    {\n      \"column\": \"Q3_Sales\",\n      \"properties\": {\n        \"dtype\": \"number\",\n        \"std\": 29.860788111948196,\n        \"min\": 100.0,\n        \"max\": 170.0,\n        \"num_unique_values\": 4,\n        \"samples\": [\n          100.0,\n          170.0,\n          140.0\n        ],\n        \"semantic_type\": \"\",\n        \"description\": \"\"\n      }\n    },\n    {\n      \"column\": \"Target\",\n      \"properties\": {\n        \"dtype\": \"number\",\n        \"std\": 27,\n        \"min\": 90,\n        \"max\": 160,\n        \"num_unique_values\": 5,\n        \"samples\": [\n          90,\n          110,\n          100\n        ],\n        \"semantic_type\": \"\",\n        \"description\": \"\"\n      }\n    },\n    {\n      \"column\": \"status\",\n      \"properties\": {\n        \"dtype\": \"category\",\n        \"num_unique_values\": 1,\n        \"samples\": [\n          \"Met Target\"\n        ],\n        \"semantic_type\": \"\",\n        \"description\": \"\"\n      }\n    }\n  ]\n}"
            }
          },
          "metadata": {},
          "execution_count": 210
        }
      ]
    },
    {
      "cell_type": "code",
      "source": [
        "# ⚙️ Question 3 (Intermediate): Replace Missing Values\n",
        "\n",
        "# 👉 Replace missing quarterly sales (NaN) with the mean of that specific quarter using NumPy.\n",
        "\n",
        "# arr[np.isnan(arr)] = np.mean(arr[~np.isnan(arr)])\n",
        "\n",
        "df['Q1_Sales'].fillna(np.nanmean(df['Q1_Sales']),inplace = True)\n",
        "df['Q2_Sales'].fillna(np.nanmean(df['Q2_Sales']),inplace = True)\n",
        "df['Q3_Sales'].fillna(np.nanmean(df['Q3_Sales']),inplace = True)\n",
        "\n",
        "\n",
        "df\n"
      ],
      "metadata": {
        "colab": {
          "base_uri": "https://localhost:8080/",
          "height": 590
        },
        "id": "qphc4ucamS5D",
        "outputId": "dcf22451-ea55-44c1-81a2-d3d45265005f"
      },
      "execution_count": 211,
      "outputs": [
        {
          "output_type": "stream",
          "name": "stderr",
          "text": [
            "/tmp/ipython-input-1488969815.py:7: FutureWarning: A value is trying to be set on a copy of a DataFrame or Series through chained assignment using an inplace method.\n",
            "The behavior will change in pandas 3.0. This inplace method will never work because the intermediate object on which we are setting values always behaves as a copy.\n",
            "\n",
            "For example, when doing 'df[col].method(value, inplace=True)', try using 'df.method({col: value}, inplace=True)' or df[col] = df[col].method(value) instead, to perform the operation inplace on the original object.\n",
            "\n",
            "\n",
            "  df['Q1_Sales'].fillna(np.nanmean(df['Q1_Sales']),inplace = True)\n",
            "/tmp/ipython-input-1488969815.py:8: FutureWarning: A value is trying to be set on a copy of a DataFrame or Series through chained assignment using an inplace method.\n",
            "The behavior will change in pandas 3.0. This inplace method will never work because the intermediate object on which we are setting values always behaves as a copy.\n",
            "\n",
            "For example, when doing 'df[col].method(value, inplace=True)', try using 'df.method({col: value}, inplace=True)' or df[col] = df[col].method(value) instead, to perform the operation inplace on the original object.\n",
            "\n",
            "\n",
            "  df['Q2_Sales'].fillna(np.nanmean(df['Q2_Sales']),inplace = True)\n",
            "/tmp/ipython-input-1488969815.py:9: FutureWarning: A value is trying to be set on a copy of a DataFrame or Series through chained assignment using an inplace method.\n",
            "The behavior will change in pandas 3.0. This inplace method will never work because the intermediate object on which we are setting values always behaves as a copy.\n",
            "\n",
            "For example, when doing 'df[col].method(value, inplace=True)', try using 'df.method({col: value}, inplace=True)' or df[col] = df[col].method(value) instead, to perform the operation inplace on the original object.\n",
            "\n",
            "\n",
            "  df['Q3_Sales'].fillna(np.nanmean(df['Q3_Sales']),inplace = True)\n"
          ]
        },
        {
          "output_type": "execute_result",
          "data": {
            "text/plain": [
              "    Region  Q1_Sales  Q2_Sales  Q3_Sales  Target      status\n",
              "0    North       120     130.0     140.0     125  Met Target\n",
              "1    South        85      95.0     100.0      90  Met Target\n",
              "2     East        90     125.0     120.0     100  Met Target\n",
              "3     West       150     160.0     170.0     160  Met Target\n",
              "4  Central       110     115.0     132.5     110  Met Target"
            ],
            "text/html": [
              "\n",
              "  <div id=\"df-5f9b68b8-6252-4d73-846c-51b4bb94b968\" class=\"colab-df-container\">\n",
              "    <div>\n",
              "<style scoped>\n",
              "    .dataframe tbody tr th:only-of-type {\n",
              "        vertical-align: middle;\n",
              "    }\n",
              "\n",
              "    .dataframe tbody tr th {\n",
              "        vertical-align: top;\n",
              "    }\n",
              "\n",
              "    .dataframe thead th {\n",
              "        text-align: right;\n",
              "    }\n",
              "</style>\n",
              "<table border=\"1\" class=\"dataframe\">\n",
              "  <thead>\n",
              "    <tr style=\"text-align: right;\">\n",
              "      <th></th>\n",
              "      <th>Region</th>\n",
              "      <th>Q1_Sales</th>\n",
              "      <th>Q2_Sales</th>\n",
              "      <th>Q3_Sales</th>\n",
              "      <th>Target</th>\n",
              "      <th>status</th>\n",
              "    </tr>\n",
              "  </thead>\n",
              "  <tbody>\n",
              "    <tr>\n",
              "      <th>0</th>\n",
              "      <td>North</td>\n",
              "      <td>120</td>\n",
              "      <td>130.0</td>\n",
              "      <td>140.0</td>\n",
              "      <td>125</td>\n",
              "      <td>Met Target</td>\n",
              "    </tr>\n",
              "    <tr>\n",
              "      <th>1</th>\n",
              "      <td>South</td>\n",
              "      <td>85</td>\n",
              "      <td>95.0</td>\n",
              "      <td>100.0</td>\n",
              "      <td>90</td>\n",
              "      <td>Met Target</td>\n",
              "    </tr>\n",
              "    <tr>\n",
              "      <th>2</th>\n",
              "      <td>East</td>\n",
              "      <td>90</td>\n",
              "      <td>125.0</td>\n",
              "      <td>120.0</td>\n",
              "      <td>100</td>\n",
              "      <td>Met Target</td>\n",
              "    </tr>\n",
              "    <tr>\n",
              "      <th>3</th>\n",
              "      <td>West</td>\n",
              "      <td>150</td>\n",
              "      <td>160.0</td>\n",
              "      <td>170.0</td>\n",
              "      <td>160</td>\n",
              "      <td>Met Target</td>\n",
              "    </tr>\n",
              "    <tr>\n",
              "      <th>4</th>\n",
              "      <td>Central</td>\n",
              "      <td>110</td>\n",
              "      <td>115.0</td>\n",
              "      <td>132.5</td>\n",
              "      <td>110</td>\n",
              "      <td>Met Target</td>\n",
              "    </tr>\n",
              "  </tbody>\n",
              "</table>\n",
              "</div>\n",
              "    <div class=\"colab-df-buttons\">\n",
              "\n",
              "  <div class=\"colab-df-container\">\n",
              "    <button class=\"colab-df-convert\" onclick=\"convertToInteractive('df-5f9b68b8-6252-4d73-846c-51b4bb94b968')\"\n",
              "            title=\"Convert this dataframe to an interactive table.\"\n",
              "            style=\"display:none;\">\n",
              "\n",
              "  <svg xmlns=\"http://www.w3.org/2000/svg\" height=\"24px\" viewBox=\"0 -960 960 960\">\n",
              "    <path d=\"M120-120v-720h720v720H120Zm60-500h600v-160H180v160Zm220 220h160v-160H400v160Zm0 220h160v-160H400v160ZM180-400h160v-160H180v160Zm440 0h160v-160H620v160ZM180-180h160v-160H180v160Zm440 0h160v-160H620v160Z\"/>\n",
              "  </svg>\n",
              "    </button>\n",
              "\n",
              "  <style>\n",
              "    .colab-df-container {\n",
              "      display:flex;\n",
              "      gap: 12px;\n",
              "    }\n",
              "\n",
              "    .colab-df-convert {\n",
              "      background-color: #E8F0FE;\n",
              "      border: none;\n",
              "      border-radius: 50%;\n",
              "      cursor: pointer;\n",
              "      display: none;\n",
              "      fill: #1967D2;\n",
              "      height: 32px;\n",
              "      padding: 0 0 0 0;\n",
              "      width: 32px;\n",
              "    }\n",
              "\n",
              "    .colab-df-convert:hover {\n",
              "      background-color: #E2EBFA;\n",
              "      box-shadow: 0px 1px 2px rgba(60, 64, 67, 0.3), 0px 1px 3px 1px rgba(60, 64, 67, 0.15);\n",
              "      fill: #174EA6;\n",
              "    }\n",
              "\n",
              "    .colab-df-buttons div {\n",
              "      margin-bottom: 4px;\n",
              "    }\n",
              "\n",
              "    [theme=dark] .colab-df-convert {\n",
              "      background-color: #3B4455;\n",
              "      fill: #D2E3FC;\n",
              "    }\n",
              "\n",
              "    [theme=dark] .colab-df-convert:hover {\n",
              "      background-color: #434B5C;\n",
              "      box-shadow: 0px 1px 3px 1px rgba(0, 0, 0, 0.15);\n",
              "      filter: drop-shadow(0px 1px 2px rgba(0, 0, 0, 0.3));\n",
              "      fill: #FFFFFF;\n",
              "    }\n",
              "  </style>\n",
              "\n",
              "    <script>\n",
              "      const buttonEl =\n",
              "        document.querySelector('#df-5f9b68b8-6252-4d73-846c-51b4bb94b968 button.colab-df-convert');\n",
              "      buttonEl.style.display =\n",
              "        google.colab.kernel.accessAllowed ? 'block' : 'none';\n",
              "\n",
              "      async function convertToInteractive(key) {\n",
              "        const element = document.querySelector('#df-5f9b68b8-6252-4d73-846c-51b4bb94b968');\n",
              "        const dataTable =\n",
              "          await google.colab.kernel.invokeFunction('convertToInteractive',\n",
              "                                                    [key], {});\n",
              "        if (!dataTable) return;\n",
              "\n",
              "        const docLinkHtml = 'Like what you see? Visit the ' +\n",
              "          '<a target=\"_blank\" href=https://colab.research.google.com/notebooks/data_table.ipynb>data table notebook</a>'\n",
              "          + ' to learn more about interactive tables.';\n",
              "        element.innerHTML = '';\n",
              "        dataTable['output_type'] = 'display_data';\n",
              "        await google.colab.output.renderOutput(dataTable, element);\n",
              "        const docLink = document.createElement('div');\n",
              "        docLink.innerHTML = docLinkHtml;\n",
              "        element.appendChild(docLink);\n",
              "      }\n",
              "    </script>\n",
              "  </div>\n",
              "\n",
              "\n",
              "    <div id=\"df-663a153c-0fe3-4ea1-be70-e9c6420cc404\">\n",
              "      <button class=\"colab-df-quickchart\" onclick=\"quickchart('df-663a153c-0fe3-4ea1-be70-e9c6420cc404')\"\n",
              "                title=\"Suggest charts\"\n",
              "                style=\"display:none;\">\n",
              "\n",
              "<svg xmlns=\"http://www.w3.org/2000/svg\" height=\"24px\"viewBox=\"0 0 24 24\"\n",
              "     width=\"24px\">\n",
              "    <g>\n",
              "        <path d=\"M19 3H5c-1.1 0-2 .9-2 2v14c0 1.1.9 2 2 2h14c1.1 0 2-.9 2-2V5c0-1.1-.9-2-2-2zM9 17H7v-7h2v7zm4 0h-2V7h2v10zm4 0h-2v-4h2v4z\"/>\n",
              "    </g>\n",
              "</svg>\n",
              "      </button>\n",
              "\n",
              "<style>\n",
              "  .colab-df-quickchart {\n",
              "      --bg-color: #E8F0FE;\n",
              "      --fill-color: #1967D2;\n",
              "      --hover-bg-color: #E2EBFA;\n",
              "      --hover-fill-color: #174EA6;\n",
              "      --disabled-fill-color: #AAA;\n",
              "      --disabled-bg-color: #DDD;\n",
              "  }\n",
              "\n",
              "  [theme=dark] .colab-df-quickchart {\n",
              "      --bg-color: #3B4455;\n",
              "      --fill-color: #D2E3FC;\n",
              "      --hover-bg-color: #434B5C;\n",
              "      --hover-fill-color: #FFFFFF;\n",
              "      --disabled-bg-color: #3B4455;\n",
              "      --disabled-fill-color: #666;\n",
              "  }\n",
              "\n",
              "  .colab-df-quickchart {\n",
              "    background-color: var(--bg-color);\n",
              "    border: none;\n",
              "    border-radius: 50%;\n",
              "    cursor: pointer;\n",
              "    display: none;\n",
              "    fill: var(--fill-color);\n",
              "    height: 32px;\n",
              "    padding: 0;\n",
              "    width: 32px;\n",
              "  }\n",
              "\n",
              "  .colab-df-quickchart:hover {\n",
              "    background-color: var(--hover-bg-color);\n",
              "    box-shadow: 0 1px 2px rgba(60, 64, 67, 0.3), 0 1px 3px 1px rgba(60, 64, 67, 0.15);\n",
              "    fill: var(--button-hover-fill-color);\n",
              "  }\n",
              "\n",
              "  .colab-df-quickchart-complete:disabled,\n",
              "  .colab-df-quickchart-complete:disabled:hover {\n",
              "    background-color: var(--disabled-bg-color);\n",
              "    fill: var(--disabled-fill-color);\n",
              "    box-shadow: none;\n",
              "  }\n",
              "\n",
              "  .colab-df-spinner {\n",
              "    border: 2px solid var(--fill-color);\n",
              "    border-color: transparent;\n",
              "    border-bottom-color: var(--fill-color);\n",
              "    animation:\n",
              "      spin 1s steps(1) infinite;\n",
              "  }\n",
              "\n",
              "  @keyframes spin {\n",
              "    0% {\n",
              "      border-color: transparent;\n",
              "      border-bottom-color: var(--fill-color);\n",
              "      border-left-color: var(--fill-color);\n",
              "    }\n",
              "    20% {\n",
              "      border-color: transparent;\n",
              "      border-left-color: var(--fill-color);\n",
              "      border-top-color: var(--fill-color);\n",
              "    }\n",
              "    30% {\n",
              "      border-color: transparent;\n",
              "      border-left-color: var(--fill-color);\n",
              "      border-top-color: var(--fill-color);\n",
              "      border-right-color: var(--fill-color);\n",
              "    }\n",
              "    40% {\n",
              "      border-color: transparent;\n",
              "      border-right-color: var(--fill-color);\n",
              "      border-top-color: var(--fill-color);\n",
              "    }\n",
              "    60% {\n",
              "      border-color: transparent;\n",
              "      border-right-color: var(--fill-color);\n",
              "    }\n",
              "    80% {\n",
              "      border-color: transparent;\n",
              "      border-right-color: var(--fill-color);\n",
              "      border-bottom-color: var(--fill-color);\n",
              "    }\n",
              "    90% {\n",
              "      border-color: transparent;\n",
              "      border-bottom-color: var(--fill-color);\n",
              "    }\n",
              "  }\n",
              "</style>\n",
              "\n",
              "      <script>\n",
              "        async function quickchart(key) {\n",
              "          const quickchartButtonEl =\n",
              "            document.querySelector('#' + key + ' button');\n",
              "          quickchartButtonEl.disabled = true;  // To prevent multiple clicks.\n",
              "          quickchartButtonEl.classList.add('colab-df-spinner');\n",
              "          try {\n",
              "            const charts = await google.colab.kernel.invokeFunction(\n",
              "                'suggestCharts', [key], {});\n",
              "          } catch (error) {\n",
              "            console.error('Error during call to suggestCharts:', error);\n",
              "          }\n",
              "          quickchartButtonEl.classList.remove('colab-df-spinner');\n",
              "          quickchartButtonEl.classList.add('colab-df-quickchart-complete');\n",
              "        }\n",
              "        (() => {\n",
              "          let quickchartButtonEl =\n",
              "            document.querySelector('#df-663a153c-0fe3-4ea1-be70-e9c6420cc404 button');\n",
              "          quickchartButtonEl.style.display =\n",
              "            google.colab.kernel.accessAllowed ? 'block' : 'none';\n",
              "        })();\n",
              "      </script>\n",
              "    </div>\n",
              "\n",
              "  <div id=\"id_392d6856-17c3-417c-94dd-defcf8501dc8\">\n",
              "    <style>\n",
              "      .colab-df-generate {\n",
              "        background-color: #E8F0FE;\n",
              "        border: none;\n",
              "        border-radius: 50%;\n",
              "        cursor: pointer;\n",
              "        display: none;\n",
              "        fill: #1967D2;\n",
              "        height: 32px;\n",
              "        padding: 0 0 0 0;\n",
              "        width: 32px;\n",
              "      }\n",
              "\n",
              "      .colab-df-generate:hover {\n",
              "        background-color: #E2EBFA;\n",
              "        box-shadow: 0px 1px 2px rgba(60, 64, 67, 0.3), 0px 1px 3px 1px rgba(60, 64, 67, 0.15);\n",
              "        fill: #174EA6;\n",
              "      }\n",
              "\n",
              "      [theme=dark] .colab-df-generate {\n",
              "        background-color: #3B4455;\n",
              "        fill: #D2E3FC;\n",
              "      }\n",
              "\n",
              "      [theme=dark] .colab-df-generate:hover {\n",
              "        background-color: #434B5C;\n",
              "        box-shadow: 0px 1px 3px 1px rgba(0, 0, 0, 0.15);\n",
              "        filter: drop-shadow(0px 1px 2px rgba(0, 0, 0, 0.3));\n",
              "        fill: #FFFFFF;\n",
              "      }\n",
              "    </style>\n",
              "    <button class=\"colab-df-generate\" onclick=\"generateWithVariable('df')\"\n",
              "            title=\"Generate code using this dataframe.\"\n",
              "            style=\"display:none;\">\n",
              "\n",
              "  <svg xmlns=\"http://www.w3.org/2000/svg\" height=\"24px\"viewBox=\"0 0 24 24\"\n",
              "       width=\"24px\">\n",
              "    <path d=\"M7,19H8.4L18.45,9,17,7.55,7,17.6ZM5,21V16.75L18.45,3.32a2,2,0,0,1,2.83,0l1.4,1.43a1.91,1.91,0,0,1,.58,1.4,1.91,1.91,0,0,1-.58,1.4L9.25,21ZM18.45,9,17,7.55Zm-12,3A5.31,5.31,0,0,0,4.9,8.1,5.31,5.31,0,0,0,1,6.5,5.31,5.31,0,0,0,4.9,4.9,5.31,5.31,0,0,0,6.5,1,5.31,5.31,0,0,0,8.1,4.9,5.31,5.31,0,0,0,12,6.5,5.46,5.46,0,0,0,6.5,12Z\"/>\n",
              "  </svg>\n",
              "    </button>\n",
              "    <script>\n",
              "      (() => {\n",
              "      const buttonEl =\n",
              "        document.querySelector('#id_392d6856-17c3-417c-94dd-defcf8501dc8 button.colab-df-generate');\n",
              "      buttonEl.style.display =\n",
              "        google.colab.kernel.accessAllowed ? 'block' : 'none';\n",
              "\n",
              "      buttonEl.onclick = () => {\n",
              "        google.colab.notebook.generateWithVariable('df');\n",
              "      }\n",
              "      })();\n",
              "    </script>\n",
              "  </div>\n",
              "\n",
              "    </div>\n",
              "  </div>\n"
            ],
            "application/vnd.google.colaboratory.intrinsic+json": {
              "type": "dataframe",
              "variable_name": "df",
              "summary": "{\n  \"name\": \"df\",\n  \"rows\": 5,\n  \"fields\": [\n    {\n      \"column\": \"Region\",\n      \"properties\": {\n        \"dtype\": \"string\",\n        \"num_unique_values\": 5,\n        \"samples\": [\n          \"South\",\n          \"Central\",\n          \"East\"\n        ],\n        \"semantic_type\": \"\",\n        \"description\": \"\"\n      }\n    },\n    {\n      \"column\": \"Q1_Sales\",\n      \"properties\": {\n        \"dtype\": \"number\",\n        \"std\": 26,\n        \"min\": 85,\n        \"max\": 150,\n        \"num_unique_values\": 5,\n        \"samples\": [\n          85,\n          110,\n          90\n        ],\n        \"semantic_type\": \"\",\n        \"description\": \"\"\n      }\n    },\n    {\n      \"column\": \"Q2_Sales\",\n      \"properties\": {\n        \"dtype\": \"number\",\n        \"std\": 23.717082451262844,\n        \"min\": 95.0,\n        \"max\": 160.0,\n        \"num_unique_values\": 5,\n        \"samples\": [\n          95.0,\n          115.0,\n          125.0\n        ],\n        \"semantic_type\": \"\",\n        \"description\": \"\"\n      }\n    },\n    {\n      \"column\": \"Q3_Sales\",\n      \"properties\": {\n        \"dtype\": \"number\",\n        \"std\": 25.8602010819715,\n        \"min\": 100.0,\n        \"max\": 170.0,\n        \"num_unique_values\": 5,\n        \"samples\": [\n          100.0,\n          132.5,\n          120.0\n        ],\n        \"semantic_type\": \"\",\n        \"description\": \"\"\n      }\n    },\n    {\n      \"column\": \"Target\",\n      \"properties\": {\n        \"dtype\": \"number\",\n        \"std\": 27,\n        \"min\": 90,\n        \"max\": 160,\n        \"num_unique_values\": 5,\n        \"samples\": [\n          90,\n          110,\n          100\n        ],\n        \"semantic_type\": \"\",\n        \"description\": \"\"\n      }\n    },\n    {\n      \"column\": \"status\",\n      \"properties\": {\n        \"dtype\": \"category\",\n        \"num_unique_values\": 1,\n        \"samples\": [\n          \"Met Target\"\n        ],\n        \"semantic_type\": \"\",\n        \"description\": \"\"\n      }\n    }\n  ]\n}"
            }
          },
          "metadata": {},
          "execution_count": 211
        }
      ]
    }
  ]
}